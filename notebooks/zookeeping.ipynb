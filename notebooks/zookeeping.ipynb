{
 "cells": [
  {
   "cell_type": "code",
   "execution_count": 1,
   "metadata": {},
   "outputs": [],
   "source": [
    "from typing import Generic, TypeVar, Dict, List, Optional\n",
    "from abc import ABC, abstractmethod"
   ]
  },
  {
   "cell_type": "code",
   "execution_count": 2,
   "metadata": {},
   "outputs": [],
   "source": [
    "V = TypeVar('V')\n",
    "D = TypeVar('D') "
   ]
  },
  {
   "cell_type": "code",
   "execution_count": 3,
   "metadata": {},
   "outputs": [],
   "source": [
    "class Constraint(Generic[V, D], ABC):\n",
    "    def __init__(self, variables: List[V]) -> None:\n",
    "        self.variables = variables\n",
    "\n",
    "    @abstractmethod\n",
    "    def is_satisfied(self, assignment: Dict[V, D]) -> bool:\n",
    "        ..."
   ]
  },
  {
   "cell_type": "code",
   "execution_count": 4,
   "metadata": {},
   "outputs": [],
   "source": [
    "class CSP(Generic[V, D]):\n",
    "    def __init__(self, variables: List[V], domains: Dict[V, List[D]]):\n",
    "        self.variables: List[V] = variables # variables to be constrained\n",
    "        self.domains: Dict[V, List[D]] = domains # domain of each variable\n",
    "        self.constraints: Dict[V, List[Constraint[V, D]]] = {}\n",
    "        for variable in self.variables:\n",
    "            self.constraints[variable] = []\n",
    "            if variable not in self.domains:\n",
    "                raise LookupError(\"Every variable should have a domain assigned to it\")\n",
    "\n",
    "    def add_constraint(self, constraint: Constraint[V, D]):\n",
    "        for variable in constraint.variables:\n",
    "            if variable not in self.variables:\n",
    "                raise LookupError(\"Variable in constraint not in CSP\")\n",
    "            else:\n",
    "                self.constraints[variable].append(constraint)\n",
    "\n",
    "    def consistent(self, variable: V, assignment: Dict[V, D]):\n",
    "        for constraint in self.constraints[variable]:\n",
    "            if not constraint.is_satisfied(assignment):\n",
    "                return False\n",
    "        return True\n",
    "\n",
    "    def backtracking_search(self, assignment: Dict[V, D] = {}) -> Optional[Dict[V, D]]:\n",
    "        if len(assignment) == len(self.variables):\n",
    "            return assignment\n",
    "\n",
    "        unassigned: List[V] = [v for v in self.variables if v not in assignment]\n",
    "\n",
    "        first: V = self.mcv_algorithm(unassigned)\n",
    "        for value in self.domains[first]:\n",
    "            local_assignment = assignment.copy()\n",
    "            local_assignment[first] = value\n",
    "            if self.consistent(first, local_assignment):\n",
    "                result: Optional[Dict[V, D]] = self.backtracking_search(local_assignment)\n",
    "                if result is not None:\n",
    "                    return result\n",
    "        return None\n",
    "\n",
    "    def mcv_algorithm(self, unassigned_vars):\n",
    "        mcvarible= unassigned_vars[0]\n",
    "        for variable in unassigned_vars:\n",
    "            if len(self.constraints[variable]) > len(self.constraints[mcvarible]):\n",
    "                mcvarible = variable\n",
    "        return mcvarible"
   ]
  },
  {
   "cell_type": "code",
   "execution_count": 5,
   "metadata": {},
   "outputs": [],
   "source": [
    "def get_animal(animal):\n",
    "    switcher={          \n",
    "        \"Leao\": \"Leao\",\n",
    "        \"Antilope\": \"Antilope\",\n",
    "        \"Tigre\": \"Tigre\",\n",
    "        \"Hiena\": \"Hiena\",\n",
    "        \"Pavao\": \"Pavao\",\n",
    "        \"Suricate\": \"Suricate\",\n",
    "        \"Javali\": \"Javali\"\n",
    "    }"
   ]
  },
  {
   "cell_type": "code",
   "execution_count": 6,
   "metadata": {},
   "outputs": [],
   "source": [
    "def get_animal2(animal):\n",
    "    if animal == \"Leao\":\n",
    "        print(\"Leão\")\n",
    "    elif animal == \"Tigre\":\n",
    "        print(\"Tigre\")\n",
    "    elif animal == \"Antilope\":\n",
    "        print(\"Antilope\")\n",
    "    elif animal == \"Hiena\":\n",
    "        print(\"Hiena\")\n",
    "    elif animal == \"Pavao\":\n",
    "        print(\"Pavão\")\n",
    "    elif animal == \"Suricate\":\n",
    "        print(\"Suricate\")\n",
    "    elif animal == \"Javali\":\n",
    "        print(\"Javali\")"
   ]
  },
  {
   "cell_type": "code",
   "execution_count": 7,
   "metadata": {},
   "outputs": [],
   "source": [
    "class Zoo_constraint(Constraint[str, str]):\n",
    "    def __init__(self, animal1: str, animal2: str):\n",
    "        super().__init__([animal1, animal2])\n",
    "        self.animal1 = animal1\n",
    "        self.animal2 = animal2\n",
    "\n",
    "    def is_satisfied(self, assignment: Dict[str, int]):\n",
    "        if self.animal1 == \"Leao\" and self.animal1 in assignment:\n",
    "            return assignment[self.animal1] == 1\n",
    "        if self.animal1 == \"Antilope\" and self.animal1 in assignment:\n",
    "            if \"Leao\" in assignment and \"Tigre\" in assignment:\n",
    "                return assignment[self.animal1] != (assignment[\"Leao\"] + 1) and assignment[self.animal1] != (assignment[\"Tigre\"] + 1) and assignment[self.animal1] != (assignment[\"Tigre\"] - 1) \n",
    "        if self.animal1 not in assignment or self.animal2 not in assignment:\n",
    "            return True\n",
    "        return assignment[self.animal1] != assignment[self.animal2]"
   ]
  },
  {
   "cell_type": "code",
   "execution_count": 10,
   "metadata": {},
   "outputs": [
    {
     "name": "stdout",
     "output_type": "stream",
     "text": [
      "--------\n",
      "Cage 1\n",
      "Leão\n",
      "Javali\n",
      "Suricate\n",
      "--------\n",
      "Cage 2\n",
      "Tigre\n",
      "Hiena\n",
      "--------\n",
      "Cage 3\n",
      "Pavão\n",
      "--------\n",
      "Cage 4\n",
      "Antilope\n",
      "--------\n"
     ]
    }
   ],
   "source": [
    "class Animal_distribution():\n",
    "    variables: List[str] = [\"Tigre\", \"Antilope\", \"Hiena\",\"Javali\" , \"Leao\", \"Pavao\", \"Suricate\"]\n",
    "    domains: Dict[str, List[int]] = {}\n",
    "    for variable in variables:\n",
    "        domains[variable] = [1, 2, 3, 4]\n",
    "    csp: CSP[str, str] = CSP(variables, domains)\n",
    "    csp.add_constraint(Zoo_constraint(\"Leao\", \"Tigre\"))\n",
    "    csp.add_constraint(Zoo_constraint(\"Leao\", \"Pavao\"))\n",
    "    csp.add_constraint(Zoo_constraint(\"Leao\", \"Antilope\"))\n",
    "    csp.add_constraint(Zoo_constraint(\"Antilope\", \"Leao\"))\n",
    "    csp.add_constraint(Zoo_constraint(\"Antilope\", \"Tigre\"))\n",
    "    csp.add_constraint(Zoo_constraint(\"Hiena\", \"Leao\"))\n",
    "    csp.add_constraint(Zoo_constraint(\"Hiena\", \"Antilope\"))\n",
    "    csp.add_constraint(Zoo_constraint(\"Hiena\", \"Javali\"))\n",
    "    csp.add_constraint(Zoo_constraint(\"Hiena\", \"Pavao\"))\n",
    "    csp.add_constraint(Zoo_constraint(\"Hiena\", \"Suricate\"))\n",
    "    csp.add_constraint(Zoo_constraint(\"Tigre\", \"Pavao\"))\n",
    "    csp.add_constraint(Zoo_constraint(\"Tigre\", \"Suricate\"))\n",
    "    csp.add_constraint(Zoo_constraint(\"Tigre\", \"Javali\"))\n",
    "    csp.add_constraint(Zoo_constraint(\"Tigre\", \"Antilope\"))\n",
    "    csp.add_constraint(Zoo_constraint(\"Tigre\", \"Leao\"))\n",
    "    csp.add_constraint(Zoo_constraint(\"Pavao\", \"Leao\"))\n",
    "    csp.add_constraint(Zoo_constraint(\"Pavao\", \"Tigre\"))\n",
    "    csp.add_constraint(Zoo_constraint(\"Suricate\", \"Tigre\"))\n",
    "    csp.add_constraint(Zoo_constraint(\"Suricate\", \"Hiena\"))\n",
    "    csp.add_constraint(Zoo_constraint(\"Javali\", \"Tigre\"))\n",
    "    csp.add_constraint(Zoo_constraint(\"Javali\", \"Hiena\"))\n",
    "    solution: Optional[Dict[str, str]] = csp.backtracking_search()\n",
    "    if solution is None:\n",
    "        print(\"No solution found!\")\n",
    "    else:\n",
    "        print(\"--------\")\n",
    "        for cage in [1, 2, 3, 4]:\n",
    "            print(\"Cage\", cage)\n",
    "            for animal, zone in solution.items():\n",
    "                if zone == cage:\n",
    "                    get_animal2(animal)\n",
    "            print(\"--------\")"
   ]
  },
  {
   "cell_type": "code",
   "execution_count": null,
   "metadata": {},
   "outputs": [],
   "source": []
  },
  {
   "cell_type": "code",
   "execution_count": null,
   "metadata": {},
   "outputs": [],
   "source": []
  }
 ],
 "metadata": {
  "kernelspec": {
   "display_name": "Python 3",
   "language": "python",
   "name": "python3"
  },
  "language_info": {
   "codemirror_mode": {
    "name": "ipython",
    "version": 3
   },
   "file_extension": ".py",
   "mimetype": "text/x-python",
   "name": "python",
   "nbconvert_exporter": "python",
   "pygments_lexer": "ipython3",
   "version": "3.8.3"
  }
 },
 "nbformat": 4,
 "nbformat_minor": 4
}
