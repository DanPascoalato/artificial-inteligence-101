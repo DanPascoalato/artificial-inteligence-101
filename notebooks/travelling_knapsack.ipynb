{
 "cells": [
  {
   "cell_type": "markdown",
   "metadata": {},
   "source": [
    "# Domain Definitions"
   ]
  },
  {
   "cell_type": "code",
   "execution_count": 1,
   "metadata": {},
   "outputs": [],
   "source": [
    "import pandas as pd\n",
    "from dataclasses import dataclass\n",
    "from typing import Optional, List, Set, Sequence, Dict, Tuple"
   ]
  },
  {
   "cell_type": "code",
   "execution_count": 2,
   "metadata": {},
   "outputs": [],
   "source": [
    "@dataclass(frozen=True)\n",
    "class Item:\n",
    "    name: str\n",
    "    value: float\n",
    "    weight: int\n",
    "    time_to_steal: int"
   ]
  },
  {
   "cell_type": "code",
   "execution_count": 3,
   "metadata": {},
   "outputs": [],
   "source": [
    "@dataclass(frozen=False)\n",
    "class Node:\n",
    "    name: str\n",
    "    items: Set[Item]\n",
    "\n",
    "    def __init__(self, name: str):\n",
    "        self.name = name\n",
    "        self.items = set()\n",
    "\n",
    "    def add_item(self, name: str, value: float, weight, tts: int) -> 'Node':\n",
    "        item = Item(name, value, weight, time_to_steal=tts)\n",
    "        return self._add_item(item)\n",
    "\n",
    "    def _add_item(self, item: Item) -> 'Node':\n",
    "        self.items.add(item)\n",
    "        return self\n",
    "\n",
    "    def __hash__(self) -> int:\n",
    "        return self.name.__hash__()"
   ]
  },
  {
   "cell_type": "code",
   "execution_count": 4,
   "metadata": {},
   "outputs": [],
   "source": [
    "@dataclass(frozen=True)\n",
    "class Edge:\n",
    "    source: Node\n",
    "    destination: Node\n",
    "    travelling_time: int\n",
    "    travelling_cost: float"
   ]
  },
  {
   "cell_type": "code",
   "execution_count": 5,
   "metadata": {},
   "outputs": [],
   "source": [
    "class Graph:\n",
    "    nodes: Dict[str,Node]\n",
    "    edges: Dict[Tuple[Node,Node], Edge]\n",
    "    connections: Dict[Node, Set[Edge]]\n",
    "\n",
    "    def __init__(self):\n",
    "        self.nodes = dict()\n",
    "        self.edges = dict()\n",
    "        self.connections = dict()\n",
    "\n",
    "    def get_node(self, name: str) -> Optional[Node]:\n",
    "        return self.nodes.get(name)\n",
    "\n",
    "    def get_nodes(self) -> List[Node]:\n",
    "        return list(self.nodes.values())\n",
    "\n",
    "    def get_edges(self) -> List[Edge]:\n",
    "        return list(self.edges.values())\n",
    "\n",
    "    def get_connections_from_node(self, node: Node) -> List[Edge]:\n",
    "        return self.connections.get(node, [])\n",
    "\n",
    "    def get_connections_from(self, node_name: str) -> List[Edge]:\n",
    "        node: Optional[Node] = self.get_node(node_name)\n",
    "        return self.get_connections_from_node(node)\n",
    "\n",
    "    def add_edge(self, src: str, dst: str, tt: int, tc: float) -> 'Graph':\n",
    "        source = Node(src)\n",
    "        destination = Node(dst)\n",
    "        edge = Edge(source, destination, travelling_time=tt, travelling_cost=tc)\n",
    "        self._add_node(source)._add_node(destination)\n",
    "        self.edges[(source, destination)] = edge\n",
    "        self.connections[source] = self.connections.get(source, []) + [edge]\n",
    "        return self\n",
    "\n",
    "    def add_node(self, node_name: str) -> 'Graph':\n",
    "        self.nodes[node_name] = Node(node_name)\n",
    "        return self\n",
    "\n",
    "    def _add_node(self, node: Node) -> 'Graph':\n",
    "        self.nodes[node.name] = node\n",
    "        return self"
   ]
  },
  {
   "cell_type": "markdown",
   "metadata": {},
   "source": [
    "# Graph Construction"
   ]
  },
  {
   "cell_type": "code",
   "execution_count": 6,
   "metadata": {},
   "outputs": [],
   "source": [
    "travelling_map = \"~/Vault/senac/artificial-intelligence-101/datasets/travelling_map.csv\"\n",
    "treasure_map = \"~/Vault/senac/artificial-intelligence-101/datasets/treasure_map.csv\""
   ]
  },
  {
   "cell_type": "code",
   "execution_count": 7,
   "metadata": {},
   "outputs": [],
   "source": [
    "g = Graph()"
   ]
  },
  {
   "cell_type": "code",
   "execution_count": 8,
   "metadata": {},
   "outputs": [],
   "source": [
    "travels = pd.read_csv(travelling_map)\n",
    "treasures = pd.read_csv(treasure_map)"
   ]
  },
  {
   "cell_type": "code",
   "execution_count": 9,
   "metadata": {},
   "outputs": [
    {
     "data": {
      "text/html": [
       "<div>\n",
       "<style scoped>\n",
       "    .dataframe tbody tr th:only-of-type {\n",
       "        vertical-align: middle;\n",
       "    }\n",
       "\n",
       "    .dataframe tbody tr th {\n",
       "        vertical-align: top;\n",
       "    }\n",
       "\n",
       "    .dataframe thead th {\n",
       "        text-align: right;\n",
       "    }\n",
       "</style>\n",
       "<table border=\"1\" class=\"dataframe\">\n",
       "  <thead>\n",
       "    <tr style=\"text-align: right;\">\n",
       "      <th></th>\n",
       "      <th>source</th>\n",
       "      <th>destination</th>\n",
       "      <th>travelling_time</th>\n",
       "      <th>travelling_cost</th>\n",
       "    </tr>\n",
       "  </thead>\n",
       "  <tbody>\n",
       "    <tr>\n",
       "      <th>0</th>\n",
       "      <td>Escondidos</td>\n",
       "      <td>Santa Paula</td>\n",
       "      <td>6</td>\n",
       "      <td>780</td>\n",
       "    </tr>\n",
       "    <tr>\n",
       "      <th>1</th>\n",
       "      <td>Escondidos</td>\n",
       "      <td>Campos</td>\n",
       "      <td>5</td>\n",
       "      <td>350</td>\n",
       "    </tr>\n",
       "    <tr>\n",
       "      <th>2</th>\n",
       "      <td>Escondidos</td>\n",
       "      <td>Riacho de Fevereiro</td>\n",
       "      <td>1</td>\n",
       "      <td>65</td>\n",
       "    </tr>\n",
       "    <tr>\n",
       "      <th>3</th>\n",
       "      <td>Escondidos</td>\n",
       "      <td>Algas</td>\n",
       "      <td>7</td>\n",
       "      <td>658</td>\n",
       "    </tr>\n",
       "    <tr>\n",
       "      <th>4</th>\n",
       "      <td>Escondidos</td>\n",
       "      <td>Além-do-Mar</td>\n",
       "      <td>5</td>\n",
       "      <td>535</td>\n",
       "    </tr>\n",
       "  </tbody>\n",
       "</table>\n",
       "</div>"
      ],
      "text/plain": [
       "       source          destination  travelling_time  travelling_cost\n",
       "0  Escondidos          Santa Paula                6              780\n",
       "1  Escondidos               Campos                5              350\n",
       "2  Escondidos  Riacho de Fevereiro                1               65\n",
       "3  Escondidos                Algas                7              658\n",
       "4  Escondidos          Além-do-Mar                5              535"
      ]
     },
     "execution_count": 9,
     "metadata": {},
     "output_type": "execute_result"
    }
   ],
   "source": [
    "travels.head()"
   ]
  },
  {
   "cell_type": "code",
   "execution_count": 10,
   "metadata": {},
   "outputs": [],
   "source": [
    "travels.apply(lambda row: g.add_edge(row['source'],\n",
    "                                     row['destination'],\n",
    "                                     row['travelling_time'],\n",
    "                                     row['travelling_cost']), axis=1)\n",
    "\n",
    "nodes = treasures.apply(lambda row: g.get_node(row['city'])\n",
    "                                     .add_item(row['name'],\n",
    "                                               row['value'],\n",
    "                                               row['weight'],\n",
    "                                               row['tts']), axis=1)"
   ]
  },
  {
   "cell_type": "markdown",
   "metadata": {},
   "source": [
    "# Problem Solving "
   ]
  },
  {
   "cell_type": "code",
   "execution_count": null,
   "metadata": {},
   "outputs": [],
   "source": []
  }
 ],
 "metadata": {
  "kernelspec": {
   "display_name": "Python 3",
   "language": "python",
   "name": "python3"
  },
  "language_info": {
   "codemirror_mode": {
    "name": "ipython",
    "version": 3
   },
   "file_extension": ".py",
   "mimetype": "text/x-python",
   "name": "python",
   "nbconvert_exporter": "python",
   "pygments_lexer": "ipython3",
   "version": "3.7.7"
  }
 },
 "nbformat": 4,
 "nbformat_minor": 4
}
