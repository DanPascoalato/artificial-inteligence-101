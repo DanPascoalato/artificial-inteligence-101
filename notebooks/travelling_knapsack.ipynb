{
 "cells": [
  {
   "cell_type": "markdown",
   "metadata": {},
   "source": [
    "# Domain Definitions"
   ]
  },
  {
   "cell_type": "code",
   "execution_count": 216,
   "metadata": {},
   "outputs": [],
   "source": [
    "import pandas as pd\n",
    "from dataclasses import dataclass\n",
    "from typing import Optional, List, Set, Sequence, Dict, Tuple"
   ]
  },
  {
   "cell_type": "code",
   "execution_count": 217,
   "metadata": {},
   "outputs": [],
   "source": [
    "@dataclass(frozen=True)\n",
    "class Item:\n",
    "    name: str\n",
    "    value: float\n",
    "    weight: int\n",
    "    time_to_steal: int"
   ]
  },
  {
   "cell_type": "code",
   "execution_count": 218,
   "metadata": {},
   "outputs": [],
   "source": [
    "@dataclass(frozen=False)\n",
    "class Node:\n",
    "    name: str\n",
    "    items: Set[Item]\n",
    "\n",
    "    def __init__(self, name: str):\n",
    "        self.name = name\n",
    "        self.items = set()\n",
    "\n",
    "    def add_item(self, item: Item):\n",
    "        self.items.add(item)\n",
    "        return self\n",
    "\n",
    "    def add_items(self, items: Sequence['Item']):\n",
    "        [self.add_item(item) for item in items]\n",
    "        return self\n",
    "\n",
    "    def __hash__(self) -> int:\n",
    "        return self.name.__hash__()"
   ]
  },
  {
   "cell_type": "code",
   "execution_count": 219,
   "metadata": {},
   "outputs": [],
   "source": [
    "@dataclass(frozen=True)\n",
    "class Edge:\n",
    "    source: Node\n",
    "    destination: Node\n",
    "    travelling_time: int\n",
    "    travelling_cost: float"
   ]
  },
  {
   "cell_type": "code",
   "execution_count": 220,
   "metadata": {},
   "outputs": [],
   "source": [
    "class Graph:\n",
    "    nodes: Dict[str,Node]\n",
    "    edges: Dict[Tuple[Node,Node], Edge]\n",
    "    connections: Dict[Node, List[Edge]]\n",
    "\n",
    "    def __init__(self):\n",
    "        self.nodes = dict()\n",
    "        self.edges = dict()\n",
    "        self.connections = dict()\n",
    "\n",
    "    def get_node(self, name: str) -> Optional[Node]:\n",
    "        return self.nodes.get(name)\n",
    "\n",
    "    def get_nodes(self) -> List[Node]:\n",
    "        return list(self.nodes.values())\n",
    "\n",
    "    def get_edges(self) -> List[Edge]:\n",
    "        return list(self.edges.values())\n",
    "\n",
    "    def get_connections_from_node(self, node: Node) -> List[Edge]:\n",
    "        return self.connections.get(node, [])\n",
    "\n",
    "    def get_connections_from(self, node_name: str) -> List[Edge]:\n",
    "        node: Optional[Node] = self.get_node(node_name)\n",
    "        return self.get_connections_from_node(node)\n",
    "\n",
    "    def add_edge(self, src: str, dst: str, tt: int, tc: float) -> 'Graph':\n",
    "        source = Node(src)\n",
    "        destination = Node(dst)\n",
    "        edge = Edge(source, destination, travelling_time=tt, travelling_cost=tc)\n",
    "        self._add_node(source)._add_node(destination)\n",
    "        self.edges[(source, destination)] = edge\n",
    "        self.connections[source] = self.connections.get(source, []) + [edge]\n",
    "        return self\n",
    "\n",
    "    def add_node(self, node_name: str) -> 'Graph':\n",
    "        self.nodes[node_name] = Node(node_name)\n",
    "        return self\n",
    "\n",
    "    def _add_node(self, node: Node) -> 'Graph':\n",
    "        self.nodes[node.name] = node\n",
    "        return self"
   ]
  },
  {
   "cell_type": "markdown",
   "metadata": {},
   "source": [
    "# Graph Construction"
   ]
  },
  {
   "cell_type": "code",
   "execution_count": null,
   "metadata": {},
   "outputs": [],
   "source": []
  },
  {
   "cell_type": "markdown",
   "metadata": {},
   "source": [
    "# Problem Solving "
   ]
  },
  {
   "cell_type": "code",
   "execution_count": null,
   "metadata": {},
   "outputs": [],
   "source": []
  },
  {
   "cell_type": "code",
   "execution_count": null,
   "metadata": {},
   "outputs": [],
   "source": []
  }
 ],
 "metadata": {
  "kernelspec": {
   "display_name": "Python 3",
   "language": "python",
   "name": "python3"
  },
  "language_info": {
   "codemirror_mode": {
    "name": "ipython",
    "version": 3
   },
   "file_extension": ".py",
   "mimetype": "text/x-python",
   "name": "python",
   "nbconvert_exporter": "python",
   "pygments_lexer": "ipython3",
   "version": "3.7.7"
  }
 },
 "nbformat": 4,
 "nbformat_minor": 4
}
