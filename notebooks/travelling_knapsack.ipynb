{
 "cells": [
  {
   "cell_type": "markdown",
   "metadata": {},
   "source": [
    "# Domain Definitions"
   ]
  },
  {
   "cell_type": "code",
   "execution_count": 54,
   "metadata": {},
   "outputs": [],
   "source": [
    "import pandas as pd\n",
    "from dataclasses import dataclass\n",
    "from numpy.random import default_rng\n",
    "from numpy.random import Generator\n",
    "from pathlib import Path\n",
    "from typing import Optional, List, Set, Dict, Tuple"
   ]
  },
  {
   "cell_type": "code",
   "execution_count": 34,
   "metadata": {},
   "outputs": [],
   "source": [
    "@dataclass(frozen=True)\n",
    "class Item:\n",
    "    name: str\n",
    "    value: float\n",
    "    weight: int\n",
    "    time_to_steal: int\n",
    "\n",
    "    @property\n",
    "    def tts(self):\n",
    "        return self.time_to_steal"
   ]
  },
  {
   "cell_type": "code",
   "execution_count": 35,
   "metadata": {},
   "outputs": [],
   "source": [
    "@dataclass(frozen=False)\n",
    "class Node:\n",
    "    name: str\n",
    "    items: Set[Item]\n",
    "\n",
    "    def __init__(self, name: str):\n",
    "        self.name = name\n",
    "        self.items = set()\n",
    "\n",
    "    def add_item(self, name: str, value: float, weight, tts: int) -> 'Node':\n",
    "        item = Item(name, value, weight, time_to_steal=tts)\n",
    "        return self._add_item(item)\n",
    "\n",
    "    def _add_item(self, item: Item) -> 'Node':\n",
    "        self.items.add(item)\n",
    "        return self\n",
    "\n",
    "    def to_dict(self):\n",
    "        return {'name': self.name, 'items': self.items}\n",
    "\n",
    "    def to_dicts(self):\n",
    "        return [{\n",
    "            'name': self.name,\n",
    "            'item': item.name,\n",
    "            'value': item.value,\n",
    "            'weight': item.weight,\n",
    "            'tts': item.tts\n",
    "        } for item in self.items]\n",
    "\n",
    "    def __hash__(self) -> int:\n",
    "        return self.name.__hash__()"
   ]
  },
  {
   "cell_type": "code",
   "execution_count": 36,
   "metadata": {},
   "outputs": [],
   "source": [
    "@dataclass(frozen=True)\n",
    "class Edge:\n",
    "    source: Node\n",
    "    destination: Node\n",
    "    travelling_time: int\n",
    "    travelling_cost: float\n",
    "\n",
    "    @property\n",
    "    def time(self):\n",
    "        return self.travelling_time\n",
    "\n",
    "    @property\n",
    "    def cost(self):\n",
    "        return self.travelling_cost\n",
    "\n",
    "    def to_dict(self):\n",
    "        return {\n",
    "            'source': self.source.name,\n",
    "            'destination': self.destination.name,\n",
    "            'travelling_time': self.time,\n",
    "            'travelling_cost': self.cost\n",
    "        }"
   ]
  },
  {
   "cell_type": "code",
   "execution_count": 199,
   "metadata": {},
   "outputs": [],
   "source": [
    "class Graph:\n",
    "    nodes: Dict[str, Node]\n",
    "    edges: Dict[Tuple[Node, Node], Edge]\n",
    "    connections: Dict[Node, Set[Edge]]\n",
    "\n",
    "    def __init__(self):\n",
    "        self.nodes = dict()\n",
    "        self.edges = dict()\n",
    "        self.connections = dict()\n",
    "\n",
    "    def get_node(self, name: str) -> Optional[Node]:\n",
    "        return self.nodes.get(name)\n",
    "\n",
    "    def get_all_nodes(self) -> List[Node]:\n",
    "        return list(self.nodes.values())\n",
    "\n",
    "    def get_all_edges(self) -> List[Edge]:\n",
    "        return list(self.edges.values())\n",
    "\n",
    "    def get_connections_from_node(self, node: Node) -> List[Edge]:\n",
    "        return self.connections.get(node, {})\n",
    "\n",
    "    def get_connections_from(self, node_name: str) -> List[Edge]:\n",
    "        node: Optional[Node] = self.get_node(node_name)\n",
    "        return self.get_connections_from_node(node)\n",
    "\n",
    "    def find_connection_between(self, src: Node, dst: Node) -> Optional[Edge]:\n",
    "        return self.edges.get((src, dst), None)\n",
    "\n",
    "    def add_edge(self, src: str, dst: str, tt: int, tc: float) -> 'Graph':\n",
    "        source = self.nodes.get(src, Node(src))\n",
    "        destination = self.nodes.get(dst, Node(dst))\n",
    "        edge = Edge(source, destination, travelling_time=tt, travelling_cost=tc)\n",
    "        self._add_node(source)._add_node(destination)\n",
    "        self.edges[(source, destination)] = edge\n",
    "        self.connections[source] = self.connections.get(source, []) + [edge]\n",
    "        return self\n",
    "\n",
    "    def add_node(self, node_name: str) -> 'Graph':\n",
    "        self.nodes[node_name] = Node(node_name)\n",
    "        return self\n",
    "\n",
    "    def _add_node(self, node: Node) -> 'Graph':\n",
    "        self.nodes[node.name] = node\n",
    "        return self\n",
    "\n",
    "    def to_pandas_df(self):\n",
    "        vertexes = [node_item for node in self.get_all_nodes() for node_item in node.to_dicts()]\n",
    "        edges = [edge.to_dict() for edge in self.get_all_edges()]\n",
    "        return (pd.DataFrame.from_records(vertexes), pd.DataFrame.from_records(edges))"
   ]
  },
  {
   "cell_type": "markdown",
   "metadata": {},
   "source": [
    "# Graph Construction"
   ]
  },
  {
   "cell_type": "code",
   "execution_count": 200,
   "metadata": {},
   "outputs": [],
   "source": [
    "datasets_dir = Path().absolute().parent.joinpath('datasets')\n",
    "travelling_map = f\"{datasets_dir}/travelling_map.csv\"\n",
    "treasure_map = f\"{datasets_dir}/treasure_map.csv\""
   ]
  },
  {
   "cell_type": "code",
   "execution_count": 201,
   "metadata": {},
   "outputs": [],
   "source": [
    "travels = pd.read_csv(travelling_map)\n",
    "treasures = pd.read_csv(treasure_map)"
   ]
  },
  {
   "cell_type": "code",
   "execution_count": 202,
   "metadata": {},
   "outputs": [],
   "source": [
    "g = Graph()"
   ]
  },
  {
   "cell_type": "code",
   "execution_count": 203,
   "metadata": {},
   "outputs": [],
   "source": [
    "travels.apply(lambda row: g.add_edge(src=row['source'],\n",
    "                                     dst=row['destination'],\n",
    "                                     tt=row['travelling_time'],\n",
    "                                     tc=row['travelling_cost'])\n",
    "                           .add_edge(src=row['destination'],\n",
    "                                     dst=row['source'],\n",
    "                                     tt=row['travelling_time'],\n",
    "                                     tc=row['travelling_cost']), axis=1)\n",
    "\n",
    "treasures.apply(lambda row: g.get_node(row['city'])\n",
    "                             .add_item(row['name'],\n",
    "                                       row['value'],\n",
    "                                       row['weight'],\n",
    "                                       row['tts']), axis=1);"
   ]
  },
  {
   "cell_type": "code",
   "execution_count": 204,
   "metadata": {},
   "outputs": [],
   "source": [
    "nodes, edges = g.to_pandas_df()"
   ]
  },
  {
   "cell_type": "markdown",
   "metadata": {},
   "source": [
    "# Exploratory Analysis"
   ]
  },
  {
   "cell_type": "code",
   "execution_count": 205,
   "metadata": {
    "jupyter": {
     "source_hidden": true
    }
   },
   "outputs": [
    {
     "data": {
      "text/html": [
       "<div>\n",
       "<style scoped>\n",
       "    .dataframe tbody tr th:only-of-type {\n",
       "        vertical-align: middle;\n",
       "    }\n",
       "\n",
       "    .dataframe tbody tr th {\n",
       "        vertical-align: top;\n",
       "    }\n",
       "\n",
       "    .dataframe thead th {\n",
       "        text-align: right;\n",
       "    }\n",
       "</style>\n",
       "<table border=\"1\" class=\"dataframe\">\n",
       "  <thead>\n",
       "    <tr style=\"text-align: right;\">\n",
       "      <th></th>\n",
       "      <th>name</th>\n",
       "      <th>item</th>\n",
       "      <th>value</th>\n",
       "      <th>weight</th>\n",
       "      <th>tts</th>\n",
       "    </tr>\n",
       "  </thead>\n",
       "  <tbody>\n",
       "    <tr>\n",
       "      <th>0</th>\n",
       "      <td>Santa Paula</td>\n",
       "      <td>Coroa do Rei João II</td>\n",
       "      <td>10000</td>\n",
       "      <td>5</td>\n",
       "      <td>10</td>\n",
       "    </tr>\n",
       "    <tr>\n",
       "      <th>1</th>\n",
       "      <td>Campos</td>\n",
       "      <td>Espada sagrada</td>\n",
       "      <td>6500</td>\n",
       "      <td>6</td>\n",
       "      <td>5</td>\n",
       "    </tr>\n",
       "    <tr>\n",
       "      <th>2</th>\n",
       "      <td>Riacho de Fevereiro</td>\n",
       "      <td>Cálice do Santo Graal</td>\n",
       "      <td>7000</td>\n",
       "      <td>2</td>\n",
       "      <td>6</td>\n",
       "    </tr>\n",
       "  </tbody>\n",
       "</table>\n",
       "</div>"
      ],
      "text/plain": [
       "                  name                   item  value  weight  tts\n",
       "0          Santa Paula   Coroa do Rei João II  10000       5   10\n",
       "1               Campos         Espada sagrada   6500       6    5\n",
       "2  Riacho de Fevereiro  Cálice do Santo Graal   7000       2    6"
      ]
     },
     "execution_count": 205,
     "metadata": {},
     "output_type": "execute_result"
    }
   ],
   "source": [
    "nodes.head(3)"
   ]
  },
  {
   "cell_type": "code",
   "execution_count": 206,
   "metadata": {
    "jupyter": {
     "source_hidden": true
    }
   },
   "outputs": [
    {
     "data": {
      "text/html": [
       "<div>\n",
       "<style scoped>\n",
       "    .dataframe tbody tr th:only-of-type {\n",
       "        vertical-align: middle;\n",
       "    }\n",
       "\n",
       "    .dataframe tbody tr th {\n",
       "        vertical-align: top;\n",
       "    }\n",
       "\n",
       "    .dataframe thead th {\n",
       "        text-align: right;\n",
       "    }\n",
       "</style>\n",
       "<table border=\"1\" class=\"dataframe\">\n",
       "  <thead>\n",
       "    <tr style=\"text-align: right;\">\n",
       "      <th></th>\n",
       "      <th>source</th>\n",
       "      <th>destination</th>\n",
       "      <th>travelling_time</th>\n",
       "      <th>travelling_cost</th>\n",
       "    </tr>\n",
       "  </thead>\n",
       "  <tbody>\n",
       "    <tr>\n",
       "      <th>0</th>\n",
       "      <td>Escondidos</td>\n",
       "      <td>Santa Paula</td>\n",
       "      <td>6</td>\n",
       "      <td>780</td>\n",
       "    </tr>\n",
       "    <tr>\n",
       "      <th>1</th>\n",
       "      <td>Santa Paula</td>\n",
       "      <td>Escondidos</td>\n",
       "      <td>6</td>\n",
       "      <td>780</td>\n",
       "    </tr>\n",
       "    <tr>\n",
       "      <th>2</th>\n",
       "      <td>Escondidos</td>\n",
       "      <td>Campos</td>\n",
       "      <td>5</td>\n",
       "      <td>350</td>\n",
       "    </tr>\n",
       "  </tbody>\n",
       "</table>\n",
       "</div>"
      ],
      "text/plain": [
       "        source  destination  travelling_time  travelling_cost\n",
       "0   Escondidos  Santa Paula                6              780\n",
       "1  Santa Paula   Escondidos                6              780\n",
       "2   Escondidos       Campos                5              350"
      ]
     },
     "execution_count": 206,
     "metadata": {},
     "output_type": "execute_result"
    }
   ],
   "source": [
    "edges.head(3)"
   ]
  },
  {
   "cell_type": "markdown",
   "metadata": {},
   "source": [
    "# Problem Solving "
   ]
  },
  {
   "cell_type": "code",
   "execution_count": 288,
   "metadata": {},
   "outputs": [],
   "source": [
    "@dataclass(frozen=False)\n",
    "class Individual:\n",
    "    genes: List[Node]\n",
    "    total_income: float\n",
    "    travelling_cost: float\n",
    "    traveling_time: int\n",
    "    time_to_steal: int\n",
    "\n",
    "    @property\n",
    "    def profit(self):\n",
    "        return self.total_income - self.travelling_cost\n",
    "\n",
    "    @property\n",
    "    def total_time(self):\n",
    "        return self.traveling_time + self.time_to_steal\n",
    "\n",
    "    @property\n",
    "    def score(self):\n",
    "        return self.profit/self.total_time\n"
   ]
  },
  {
   "cell_type": "code",
   "execution_count": 302,
   "metadata": {},
   "outputs": [],
   "source": [
    "class GeneticAlgorithm:\n",
    "    graph: Graph\n",
    "    genes: Set[Node]\n",
    "    rng: Generator\n",
    "\n",
    "    def __init__(self, graph: Graph):\n",
    "        self.graph = graph\n",
    "        self.genes = list(graph.get_all_nodes())\n",
    "        self.rng = default_rng()\n",
    "\n",
    "    def generate_initial_batch(self, size: int = 10) -> List[Individual]:\n",
    "        length = len(self.genes)\n",
    "        return [self.generate_individual(length) for i in range(size)]\n",
    "\n",
    "    def generate_individual(self, number_of_genes: int):\n",
    "        genes = self.generate_individual_genes(number_of_genes)\n",
    "        tuples: Tuple[Node, Node] = [(genes[idx], genes[num]) for idx, num in enumerate(range(1, len(genes)))]\n",
    "        connections: List[Edge] = [self.graph.find_connection_between(src, dest) for src, dest in tuples]\n",
    "\n",
    "        total_income: float = 0.0\n",
    "        travelling_cost: float = 0.0\n",
    "        travelling_time: int = 0\n",
    "        time_to_steal: int = 0\n",
    "\n",
    "        for c in connections:\n",
    "            print(c)\n",
    "            items = [(i.value, i.weight, i.tts) for i in c.destination.items]\n",
    "            print(items)\n",
    "            print(\"===========================================================================\")\n",
    "\n",
    "\n",
    "    def generate_individual_genes(self, number: int) -> List[Node]:\n",
    "        indexes = self.rng.choice(number, size=number, replace=False)\n",
    "        genes: List[Node] = [self.genes[idx] for idx in indexes]\n",
    "\n",
    "        starting_point: Node = self.graph.get_node(\"Escondidos\")\n",
    "        endpoint_idx: int = (genes.index(starting_point))\n",
    "        individual_genes: List[Node] = [starting_point] + genes[0:endpoint_idx+1]\n",
    "        return individual_genes\n",
    "\n",
    "    def fitness(self, indv: Individual):\n",
    "        pass\n",
    "\n",
    "    def mutation(self):\n",
    "        pass\n",
    "\n",
    "\n",
    "    def cross_over(self):\n",
    "        pass"
   ]
  },
  {
   "cell_type": "code",
   "execution_count": 303,
   "metadata": {},
   "outputs": [],
   "source": [
    "ga = GeneticAlgorithm(g)"
   ]
  },
  {
   "cell_type": "code",
   "execution_count": 304,
   "metadata": {},
   "outputs": [
    {
     "name": "stdout",
     "output_type": "stream",
     "text": [
      "Edge(source=Node(name='Escondidos', items=set()), destination=Node(name='Granada', items={Item(name='Fóssil da primeira galinha conhecida', value=2500, weight=2, time_to_steal=1)}), travelling_time=7, travelling_cost=413)\n",
      "[(2500, 2, 1)]\n",
      "===========================================================================\n",
      "Edge(source=Node(name='Granada', items={Item(name='Fóssil da primeira galinha conhecida', value=2500, weight=2, time_to_steal=1)}), destination=Node(name='Além-do-Mar', items={Item(name='Maior diamante do continente', value=5400, weight=2, time_to_steal=10)}), travelling_time=6, travelling_cost=582)\n",
      "[(5400, 2, 10)]\n",
      "===========================================================================\n",
      "Edge(source=Node(name='Além-do-Mar', items={Item(name='Maior diamante do continente', value=5400, weight=2, time_to_steal=10)}), destination=Node(name='Foz da Água Quente', items={Item(name='Quadro do maior pintor do século', value=2000, weight=4, time_to_steal=4)}), travelling_time=2, travelling_cost=292)\n",
      "[(2000, 4, 4)]\n",
      "===========================================================================\n",
      "Edge(source=Node(name='Foz da Água Quente', items={Item(name='Quadro do maior pintor do século', value=2000, weight=4, time_to_steal=4)}), destination=Node(name='Limões', items={Item(name='Capacete de guerra antigo', value=4000, weight=2, time_to_steal=4)}), travelling_time=1, travelling_cost=143)\n",
      "[(4000, 2, 4)]\n",
      "===========================================================================\n",
      "Edge(source=Node(name='Limões', items={Item(name='Capacete de guerra antigo', value=4000, weight=2, time_to_steal=4)}), destination=Node(name='Lagos', items={Item(name='Primeira moeda de $1 do país', value=3000, weight=1, time_to_steal=7)}), travelling_time=8, travelling_cost=952)\n",
      "[(3000, 1, 7)]\n",
      "===========================================================================\n",
      "Edge(source=Node(name='Lagos', items={Item(name='Primeira moeda de $1 do país', value=3000, weight=1, time_to_steal=7)}), destination=Node(name='Algas', items={Item(name='Colar de casamento da rainha Vanessa', value=2500, weight=1, time_to_steal=7)}), travelling_time=3, travelling_cost=435)\n",
      "[(2500, 1, 7)]\n",
      "===========================================================================\n",
      "Edge(source=Node(name='Algas', items={Item(name='Colar de casamento da rainha Vanessa', value=2500, weight=1, time_to_steal=7)}), destination=Node(name='Santa Paula', items={Item(name='Coroa do Rei João II', value=10000, weight=5, time_to_steal=10)}), travelling_time=5, travelling_cost=370)\n",
      "[(10000, 5, 10)]\n",
      "===========================================================================\n",
      "Edge(source=Node(name='Santa Paula', items={Item(name='Coroa do Rei João II', value=10000, weight=5, time_to_steal=10)}), destination=Node(name='Guardião', items={Item(name='Primeira edição do livro \"O Livro Azul\"', value=3000, weight=1, time_to_steal=2)}), travelling_time=9, travelling_cost=693)\n",
      "[(3000, 1, 2)]\n",
      "===========================================================================\n",
      "Edge(source=Node(name='Guardião', items={Item(name='Primeira edição do livro \"O Livro Azul\"', value=3000, weight=1, time_to_steal=2)}), destination=Node(name='Porto', items={Item(name='Fecha do caçador pré-histórico', value=2300, weight=1, time_to_steal=2)}), travelling_time=7, travelling_cost=455)\n",
      "[(2300, 1, 2)]\n",
      "===========================================================================\n",
      "Edge(source=Node(name='Porto', items={Item(name='Fecha do caçador pré-histórico', value=2300, weight=1, time_to_steal=2)}), destination=Node(name='Campos', items={Item(name='Espada sagrada', value=6500, weight=6, time_to_steal=5)}), travelling_time=9, travelling_cost=1017)\n",
      "[(6500, 6, 5)]\n",
      "===========================================================================\n",
      "Edge(source=Node(name='Campos', items={Item(name='Espada sagrada', value=6500, weight=6, time_to_steal=5)}), destination=Node(name='Leão', items={Item(name='Taça da Copa do Mundo de Corrida de Cavalo', value=4000, weight=2, time_to_steal=5)}), travelling_time=3, travelling_cost=234)\n",
      "[(4000, 2, 5)]\n",
      "===========================================================================\n",
      "Edge(source=Node(name='Leão', items={Item(name='Taça da Copa do Mundo de Corrida de Cavalo', value=4000, weight=2, time_to_steal=5)}), destination=Node(name='Ponte-do-Sol', items={Item(name='Busto do líder da Revolução Pavão', value=1500, weight=6, time_to_steal=5)}), travelling_time=3, travelling_cost=168)\n",
      "[(1500, 6, 5)]\n",
      "===========================================================================\n",
      "Edge(source=Node(name='Ponte-do-Sol', items={Item(name='Busto do líder da Revolução Pavão', value=1500, weight=6, time_to_steal=5)}), destination=Node(name='Escondidos', items=set()), travelling_time=9, travelling_cost=504)\n",
      "[]\n",
      "===========================================================================\n"
     ]
    }
   ],
   "source": [
    "individuals: List[Individual] = ga.generate_initial_batch(size=1)"
   ]
  },
  {
   "cell_type": "code",
   "execution_count": null,
   "metadata": {},
   "outputs": [],
   "source": []
  }
 ],
 "metadata": {
  "kernelspec": {
   "display_name": "Python 3",
   "language": "python",
   "name": "python3"
  },
  "language_info": {
   "codemirror_mode": {
    "name": "ipython",
    "version": 3
   },
   "file_extension": ".py",
   "mimetype": "text/x-python",
   "name": "python",
   "nbconvert_exporter": "python",
   "pygments_lexer": "ipython3",
   "version": "3.7.7"
  }
 },
 "nbformat": 4,
 "nbformat_minor": 4
}
