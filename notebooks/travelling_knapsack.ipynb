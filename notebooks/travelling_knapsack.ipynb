{
 "cells": [
  {
   "cell_type": "markdown",
   "metadata": {},
   "source": [
    "# Domain Definitions"
   ]
  },
  {
   "cell_type": "code",
   "execution_count": 315,
   "metadata": {},
   "outputs": [],
   "source": [
    "import pandas as pd\n",
    "from dataclasses import dataclass\n",
    "from numpy.random import default_rng\n",
    "from numpy.random import Generator\n",
    "from pathlib import Path\n",
    "from typing import Optional, List, Set, Dict, Tuple"
   ]
  },
  {
   "cell_type": "code",
   "execution_count": 316,
   "metadata": {},
   "outputs": [],
   "source": [
    "@dataclass(frozen=True)\n",
    "class Item:\n",
    "    name: str\n",
    "    value: float\n",
    "    weight: int\n",
    "    time_to_steal: int\n",
    "\n",
    "    @property\n",
    "    def tts(self):\n",
    "        return self.time_to_steal"
   ]
  },
  {
   "cell_type": "code",
   "execution_count": 362,
   "metadata": {},
   "outputs": [],
   "source": [
    "@dataclass(frozen=False)\n",
    "class Node:\n",
    "    name: str\n",
    "    item: Item\n",
    "\n",
    "    def __init__(self, name: str):\n",
    "        self.name = name\n",
    "        self.item = None\n",
    "\n",
    "    def with_item(self, name: str, value: float, weight, tts: int) -> 'Node':\n",
    "        return self._with_item(Item(name, value, weight, time_to_steal=tts))\n",
    "\n",
    "    def _with_item(self, item: Item) -> 'Node':\n",
    "        self.item = item\n",
    "        return self\n",
    "\n",
    "    def to_dict(self):\n",
    "        try:\n",
    "            return {\n",
    "                'name': self.name,\n",
    "                'item': self.item.name,\n",
    "                'value': self.item.value,\n",
    "                'weight': self.item.weight,\n",
    "                'tts': self.item.tts\n",
    "            }\n",
    "        except Exception:\n",
    "            return {\n",
    "                'name': self.name,\n",
    "                'item': None,\n",
    "            }\n",
    "\n",
    "    def __hash__(self) -> int:\n",
    "        return self.name.__hash__()"
   ]
  },
  {
   "cell_type": "code",
   "execution_count": 363,
   "metadata": {},
   "outputs": [],
   "source": [
    "@dataclass(frozen=True)\n",
    "class Edge:\n",
    "    source: Node\n",
    "    destination: Node\n",
    "    travelling_time: int\n",
    "    travelling_cost: float\n",
    "\n",
    "    @property\n",
    "    def time(self):\n",
    "        return self.travelling_time\n",
    "\n",
    "    @property\n",
    "    def cost(self):\n",
    "        return self.travelling_cost\n",
    "\n",
    "    def to_dict(self):\n",
    "        return {\n",
    "            'source': self.source.name,\n",
    "            'destination': self.destination.name,\n",
    "            'travelling_time': self.time,\n",
    "            'travelling_cost': self.cost\n",
    "        }"
   ]
  },
  {
   "cell_type": "code",
   "execution_count": 364,
   "metadata": {},
   "outputs": [],
   "source": [
    "class Graph:\n",
    "    nodes: Dict[str, Node]\n",
    "    edges: Dict[Tuple[Node, Node], Edge]\n",
    "    connections: Dict[Node, Set[Edge]]\n",
    "\n",
    "    def __init__(self):\n",
    "        self.nodes = dict()\n",
    "        self.edges = dict()\n",
    "        self.connections = dict()\n",
    "\n",
    "    def get_node(self, name: str) -> Optional[Node]:\n",
    "        return self.nodes.get(name)\n",
    "\n",
    "    def get_all_nodes(self) -> List[Node]:\n",
    "        return list(self.nodes.values())\n",
    "\n",
    "    def get_all_edges(self) -> List[Edge]:\n",
    "        return list(self.edges.values())\n",
    "\n",
    "    def get_connections_from_node(self, node: Node) -> List[Edge]:\n",
    "        return self.connections.get(node, {})\n",
    "\n",
    "    def get_connections_from(self, node_name: str) -> List[Edge]:\n",
    "        node: Optional[Node] = self.get_node(node_name)\n",
    "        return self.get_connections_from_node(node)\n",
    "\n",
    "    def find_connection_between(self, src: Node, dst: Node) -> Optional[Edge]:\n",
    "        return self.edges.get((src, dst), None)\n",
    "\n",
    "    def add_edge(self, src: str, dst: str, tt: int, tc: float) -> 'Graph':\n",
    "        source = self.nodes.get(src, Node(src))\n",
    "        destination = self.nodes.get(dst, Node(dst))\n",
    "        edge = Edge(source, destination, travelling_time=tt, travelling_cost=tc)\n",
    "        self._add_node(source)._add_node(destination)\n",
    "        self.edges[(source, destination)] = edge\n",
    "        self.connections[source] = self.connections.get(source, []) + [edge]\n",
    "        return self\n",
    "\n",
    "    def add_node(self, node_name: str) -> 'Graph':\n",
    "        self.nodes[node_name] = Node(node_name)\n",
    "        return self\n",
    "\n",
    "    def _add_node(self, node: Node) -> 'Graph':\n",
    "        self.nodes[node.name] = node\n",
    "        return self"
   ]
  },
  {
   "cell_type": "markdown",
   "metadata": {},
   "source": [
    "# Graph Construction"
   ]
  },
  {
   "cell_type": "code",
   "execution_count": 365,
   "metadata": {},
   "outputs": [],
   "source": [
    "datasets_dir = Path().absolute().parent.joinpath('datasets')\n",
    "travelling_map = f\"{datasets_dir}/travelling_map.csv\"\n",
    "treasure_map = f\"{datasets_dir}/treasure_map.csv\""
   ]
  },
  {
   "cell_type": "code",
   "execution_count": 366,
   "metadata": {},
   "outputs": [],
   "source": [
    "travels = pd.read_csv(travelling_map)\n",
    "treasures = pd.read_csv(treasure_map)"
   ]
  },
  {
   "cell_type": "code",
   "execution_count": 367,
   "metadata": {},
   "outputs": [],
   "source": [
    "g = Graph()"
   ]
  },
  {
   "cell_type": "code",
   "execution_count": 368,
   "metadata": {},
   "outputs": [],
   "source": [
    "travels.apply(lambda row: g.add_edge(src=row['source'],\n",
    "                                     dst=row['destination'],\n",
    "                                     tt=row['travelling_time'],\n",
    "                                     tc=row['travelling_cost'])\n",
    "                           .add_edge(src=row['destination'],\n",
    "                                     dst=row['source'],\n",
    "                                     tt=row['travelling_time'],\n",
    "                                     tc=row['travelling_cost']), axis=1)\n",
    "\n",
    "treasures.apply(lambda row: g.get_node(row['city'])\n",
    "                             .with_item(row['name'],\n",
    "                                        row['value'],\n",
    "                                        row['weight'],\n",
    "                                        row['tts']), axis=1);"
   ]
  },
  {
   "cell_type": "markdown",
   "metadata": {},
   "source": [
    "# Problem Solving "
   ]
  },
  {
   "cell_type": "code",
   "execution_count": 466,
   "metadata": {},
   "outputs": [],
   "source": [
    "@dataclass(frozen=False)\n",
    "class Individual:\n",
    "    genes: List[Node]\n",
    "    \n",
    "    total_income: float\n",
    "    travelling_cost: float\n",
    "    traveling_time: int\n",
    "    time_to_steal: int\n",
    "    carry_weight: int\n",
    "\n",
    "    @property\n",
    "    def profit(self):\n",
    "        return self.total_income - self.travelling_cost\n",
    "\n",
    "    @property\n",
    "    def total_time(self):\n",
    "        return self.traveling_time + self.time_to_steal\n",
    "\n",
    "    @property\n",
    "    def score(self):\n",
    "        return self.profit/self.total_time"
   ]
  },
  {
   "cell_type": "code",
   "execution_count": 547,
   "metadata": {},
   "outputs": [],
   "source": [
    "class GeneticAlgorithm:\n",
    "    graph: Graph\n",
    "    genes: Set[Node]\n",
    "    max_hours: int\n",
    "    max_weight: int\n",
    "    rng: Generator\n",
    "\n",
    "    def __init__(self, graph: Graph, with_max_hours: int, with_max_weight: int):\n",
    "        self.graph = graph\n",
    "        self.genes = list(graph.get_all_nodes())\n",
    "        self.max_hours = with_max_hours\n",
    "        self.max_weight = with_max_weight\n",
    "        self.rng = default_rng()\n",
    "\n",
    "    def generate_initial_batch(self, size: int = 10) -> List[Individual]:\n",
    "        length = len(self.genes)\n",
    "        return [self.generate_individual(length) for i in range(size)]\n",
    "\n",
    "    def generate_individual(self, number_of_genes: int):\n",
    "        while True:\n",
    "            genes = self.generate_individual_genes(number_of_genes)\n",
    "            tuples: Tuple[Node, Node] = [(genes[idx], genes[num]) for idx, num in enumerate(range(1, len(genes)))]\n",
    "            connections: List[Edge] = [self.graph.find_connection_between(src, dest) for src, dest in tuples if (src != dest)]\n",
    "\n",
    "            if len(connections) == 0:\n",
    "                continue\n",
    "\n",
    "            travelling_cost: float = 0.0\n",
    "            travelling_time: int = 0\n",
    "            total_income: float = 0.0\n",
    "            time_to_steal: int = 0\n",
    "            total_weight: int = 0\n",
    "\n",
    "            for cx in connections:\n",
    "                travelling_cost += cx.travelling_cost\n",
    "                travelling_time += cx.travelling_time\n",
    "                total_income += cx.destination.to_dict().get('value', 0)\n",
    "                time_to_steal += cx.destination.to_dict().get('tts', 0)\n",
    "                total_weight += cx.destination.to_dict().get('weight', 0)\n",
    "\n",
    "            indv = Individual(genes,\n",
    "                              total_income=total_income,\n",
    "                              time_to_steal=time_to_steal,\n",
    "                              travelling_cost=travelling_cost,\n",
    "                              traveling_time=travelling_time,\n",
    "                              carry_weight=total_weight)\n",
    "\n",
    "            if self.fitness(indv) > 0:\n",
    "                return indv\n",
    "\n",
    "    def generate_individual_genes(self, number: int) -> List[Node]:\n",
    "        indexes = self.rng.choice(number, size=number, replace=False)\n",
    "        genes: List[Node] = [self.genes[idx] for idx in indexes]\n",
    "\n",
    "        starting_point: Node = self.graph.get_node(\"Escondidos\")\n",
    "        endpoint_idx: int = (genes.index(starting_point))\n",
    "        individual_genes: List[Node] = [starting_point] + genes[0:endpoint_idx+1]\n",
    "        return individual_genes\n",
    "\n",
    "    def fitness(self, indv: Individual) -> int:\n",
    "        if indv.carry_weight > self.max_weight or indv.total_time > self.max_hours:\n",
    "            return 0\n",
    "\n",
    "        return indv.score\n",
    "\n",
    "    def mutation(self):\n",
    "        pass\n",
    "\n",
    "\n",
    "    def cross_over(self):\n",
    "        pass"
   ]
  },
  {
   "cell_type": "code",
   "execution_count": 548,
   "metadata": {},
   "outputs": [],
   "source": [
    "ga = GeneticAlgorithm(g, with_max_hours=72, with_max_weight=20)"
   ]
  },
  {
   "cell_type": "code",
   "execution_count": 549,
   "metadata": {},
   "outputs": [],
   "source": [
    "individuals: List[Individual] = ga.generate_initial_batch(size=10)"
   ]
  },
  {
   "cell_type": "code",
   "execution_count": 551,
   "metadata": {},
   "outputs": [
    {
     "data": {
      "text/plain": [
       "10"
      ]
     },
     "execution_count": 551,
     "metadata": {},
     "output_type": "execute_result"
    }
   ],
   "source": [
    "len(individuals)"
   ]
  },
  {
   "cell_type": "code",
   "execution_count": 552,
   "metadata": {},
   "outputs": [
    {
     "name": "stdout",
     "output_type": "stream",
     "text": [
      "329.8181818181818\n",
      "319.81159420289856\n",
      "360.4492753623188\n",
      "403.81944444444446\n",
      "189.55882352941177\n",
      "307.1764705882353\n",
      "336.390243902439\n",
      "80.0\n",
      "324.0\n",
      "216.5\n"
     ]
    }
   ],
   "source": [
    "for i in individuals:\n",
    "    print(i.score)"
   ]
  },
  {
   "cell_type": "code",
   "execution_count": 563,
   "metadata": {},
   "outputs": [],
   "source": [
    "x = individuals[2]\n",
    "y = individuals[1]"
   ]
  },
  {
   "cell_type": "code",
   "execution_count": 564,
   "metadata": {},
   "outputs": [
    {
     "data": {
      "text/plain": [
       "[Node(name='Campos', item=Item(name='Espada sagrada', value=6500, weight=6, time_to_steal=5)),\n",
       " Node(name='Lagos', item=Item(name='Primeira moeda de $1 do país', value=3000, weight=1, time_to_steal=7)),\n",
       " Node(name='Leão', item=Item(name='Taça da Copa do Mundo de Corrida de Cavalo', value=4000, weight=2, time_to_steal=5)),\n",
       " Node(name='Além-do-Mar', item=Item(name='Maior diamante do continente', value=5400, weight=2, time_to_steal=10)),\n",
       " Node(name='Porto', item=Item(name='Fecha do caçador pré-histórico', value=2300, weight=1, time_to_steal=2)),\n",
       " Node(name='Guardião', item=Item(name='Primeira edição do livro \"O Livro Azul\"', value=3000, weight=1, time_to_steal=2)),\n",
       " Node(name='Limões', item=Item(name='Capacete de guerra antigo', value=4000, weight=2, time_to_steal=4))]"
      ]
     },
     "execution_count": 564,
     "metadata": {},
     "output_type": "execute_result"
    }
   ],
   "source": [
    "x.genes[1:-1]"
   ]
  },
  {
   "cell_type": "code",
   "execution_count": 565,
   "metadata": {},
   "outputs": [
    {
     "data": {
      "text/plain": [
       "[Node(name='Guardião', item=Item(name='Primeira edição do livro \"O Livro Azul\"', value=3000, weight=1, time_to_steal=2)),\n",
       " Node(name='Ponte-do-Sol', item=Item(name='Busto do líder da Revolução Pavão', value=1500, weight=6, time_to_steal=5)),\n",
       " Node(name='Além-do-Mar', item=Item(name='Maior diamante do continente', value=5400, weight=2, time_to_steal=10)),\n",
       " Node(name='Campos', item=Item(name='Espada sagrada', value=6500, weight=6, time_to_steal=5)),\n",
       " Node(name='Leão', item=Item(name='Taça da Copa do Mundo de Corrida de Cavalo', value=4000, weight=2, time_to_steal=5)),\n",
       " Node(name='Algas', item=Item(name='Colar de casamento da rainha Vanessa', value=2500, weight=1, time_to_steal=7)),\n",
       " Node(name='Porto', item=Item(name='Fecha do caçador pré-histórico', value=2300, weight=1, time_to_steal=2))]"
      ]
     },
     "execution_count": 565,
     "metadata": {},
     "output_type": "execute_result"
    }
   ],
   "source": [
    "y.genes[1:-1]"
   ]
  },
  {
   "cell_type": "code",
   "execution_count": null,
   "metadata": {},
   "outputs": [],
   "source": []
  }
 ],
 "metadata": {
  "kernelspec": {
   "display_name": "Python 3",
   "language": "python",
   "name": "python3"
  },
  "language_info": {
   "codemirror_mode": {
    "name": "ipython",
    "version": 3
   },
   "file_extension": ".py",
   "mimetype": "text/x-python",
   "name": "python",
   "nbconvert_exporter": "python",
   "pygments_lexer": "ipython3",
   "version": "3.7.7"
  }
 },
 "nbformat": 4,
 "nbformat_minor": 4
}
