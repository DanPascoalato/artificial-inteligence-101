{
 "cells": [
  {
   "cell_type": "code",
   "execution_count": 1,
   "metadata": {
    "id": "rfdhGGMsw1H7"
   },
   "outputs": [],
   "source": [
    "import numpy as np"
   ]
  },
  {
   "cell_type": "markdown",
   "metadata": {},
   "source": [
    "## Defining the enviroment"
   ]
  },
  {
   "cell_type": "code",
   "execution_count": 2,
   "metadata": {
    "id": "9AdpFVfy6ya9"
   },
   "outputs": [],
   "source": [
    "area_rows = 11\n",
    "area_columns = 11"
   ]
  },
  {
   "cell_type": "code",
   "execution_count": 3,
   "metadata": {},
   "outputs": [],
   "source": [
    "q_table = np.zeros((area_rows, area_columns, 4))"
   ]
  },
  {
   "cell_type": "code",
   "execution_count": 4,
   "metadata": {
    "id": "z43QX_t080q3"
   },
   "outputs": [],
   "source": [
    "actions = ['up', 'right', 'down', 'left']"
   ]
  },
  {
   "cell_type": "code",
   "execution_count": 5,
   "metadata": {},
   "outputs": [],
   "source": [
    "rewards = np.full((area_rows, area_columns), -100)"
   ]
  },
  {
   "cell_type": "code",
   "execution_count": 6,
   "metadata": {
    "id": "GIJu7XsLXw62"
   },
   "outputs": [
    {
     "name": "stdout",
     "output_type": "stream",
     "text": [
      "[-100 -100 -100   -1   -1  100   -1   -1 -100 -100   -1]\n",
      "[-100 -100 -100   -1 -100   -1 -100   -1 -100 -100   -1]\n",
      "[-100 -100   -1   -1   -1   -1   -1   -1   -1   -1   -1]\n",
      "[-100 -100   -1 -100 -100   -1 -100   -1 -100 -100   -1]\n",
      "[-100   -1   -1   -1   -1   -1   -1   -1   -1   -1   -1]\n",
      "[-100 -100 -100 -100 -100   -1 -100 -100 -100 -100 -100]\n",
      "[-100   -1   -1   -1   -1   -1   -1   -1   -1   -1   -1]\n",
      "[  -1   -1 -100 -100 -100   -1 -100 -100 -100 -100   -1]\n",
      "[  -1 -100 -100 -100 -100   -1 -100 -100 -100 -100   -1]\n",
      "[  -1   -1 -100 -100 -100   -1 -100   -1 -100 -100   -1]\n",
      "[  -1 -100 -100 -100 -100   -1   -1   -1 -100 -100   -1]\n"
     ]
    }
   ],
   "source": [
    "paths = {} \n",
    "paths[0] = [3,4,5,6,7,10]\n",
    "paths[1] = [3,5,7,10]\n",
    "paths[2] = [i for i in range(2, 11)]\n",
    "paths[3] = [2,5,7,10]\n",
    "paths[4] = [i for i in range(1, 11)]\n",
    "paths[5] = [5]\n",
    "paths[6] = [i for i in range(1, 11)]\n",
    "paths[7] = [0,1,5,10]\n",
    "paths[8] = [0,5,10]\n",
    "paths[9] = [0,1,5,7,10]\n",
    "paths[10] = [0,5,6,7,10]\n",
    "\n",
    "for row_index in range(0, 11):\n",
    "  for column_index in paths[row_index]:\n",
    "    rewards[row_index, column_index] = -1.\n",
    "    \n",
    "#objective\n",
    "rewards[0, 5] = 100\n",
    "\n",
    "for row in rewards:\n",
    "  print(row)"
   ]
  },
  {
   "cell_type": "code",
   "execution_count": 7,
   "metadata": {},
   "outputs": [],
   "source": [
    "def is_terminal_state(current_row, current_column):\n",
    "  if rewards[current_row, current_column] == -1.:\n",
    "    return False\n",
    "  else:\n",
    "    return True"
   ]
  },
  {
   "cell_type": "code",
   "execution_count": 8,
   "metadata": {},
   "outputs": [],
   "source": [
    "def get_start():\n",
    "  current_row = np.random.randint(area_rows)\n",
    "  current_column = np.random.randint(area_columns)\n",
    " \n",
    "  while is_terminal_state(current_row, current_column):\n",
    "    current_row = np.random.randint(area_rows)\n",
    "    current_column = np.random.randint(area_columns)\n",
    "  return current_row, current_column"
   ]
  },
  {
   "cell_type": "code",
   "execution_count": 9,
   "metadata": {},
   "outputs": [],
   "source": [
    "def get_next_action(current_row, current_column, epsilon):\n",
    "  if np.random.random() < epsilon:\n",
    "    return np.argmax(q_table[current_row, current_column])\n",
    "  else:\n",
    "    return np.random.randint(4)"
   ]
  },
  {
   "cell_type": "code",
   "execution_count": 10,
   "metadata": {},
   "outputs": [],
   "source": [
    "def get_next_location(current_row, current_column, movement_action):\n",
    "  new_row_index = current_row\n",
    "  new_column_index = current_column\n",
    "  if actions[movement_action] == 'up' and current_row > 0:\n",
    "    new_row_index -= 1\n",
    "  elif actions[movement_action] == 'down' and current_row < area_rows - 1:\n",
    "    new_row_index += 1\n",
    "  elif actions[movement_action] == 'left' and current_column > 0:\n",
    "    new_column_index -= 1  \n",
    "  elif actions[movement_action] == 'right' and current_column < area_columns - 1:\n",
    "    new_column_index += 1\n",
    "  return new_row_index, new_column_index"
   ]
  },
  {
   "cell_type": "code",
   "execution_count": 11,
   "metadata": {
    "id": "DnCfO5tVG0LJ"
   },
   "outputs": [],
   "source": [
    "def get_shortest_path(start_row_index, start_column_index):\n",
    "  if is_terminal_state(start_row_index, start_column_index):\n",
    "    return []\n",
    "  else:\n",
    "    current_row, current_column = start_row_index, start_column_index\n",
    "    shortest_path = []\n",
    "    shortest_path.append([current_row, current_column])\n",
    "   \n",
    "    while not is_terminal_state(current_row, current_column):\n",
    "      movement_action = get_next_action(current_row, current_column, 1.)\n",
    "      current_row, current_column = get_next_location(current_row, current_column, movement_action)\n",
    "      shortest_path.append([current_row, current_column])\n",
    "    return shortest_path"
   ]
  },
  {
   "cell_type": "markdown",
   "metadata": {
    "id": "pjl9niKEqONs"
   },
   "source": [
    "## Training"
   ]
  },
  {
   "cell_type": "code",
   "execution_count": 12,
   "metadata": {
    "id": "3N5BB0m0JHIn"
   },
   "outputs": [
    {
     "name": "stdout",
     "output_type": "stream",
     "text": [
      "Finished!\n"
     ]
    }
   ],
   "source": [
    "epsilon = 0.9 #Chance to choose the best action and not ramdom\n",
    "gamma = 0.9 #discount factor\n",
    "learning_rate = 0.55 \n",
    "\n",
    "\n",
    "for iteration in range(1000):\n",
    "  row_index, column_index = get_start()\n",
    "\n",
    "  while not is_terminal_state(row_index, column_index):\n",
    "    #Choose next movement and store old position\n",
    "    movement_action = get_next_action(row_index, column_index, epsilon)\n",
    "    old_row_index, old_column_index = row_index, column_index\n",
    "    row_index, column_index = get_next_location(row_index, column_index, movement_action)\n",
    "    \n",
    "    #recieve reward \n",
    "    reward = rewards[row_index, column_index]\n",
    "    old_q_table = q_table[old_row_index, old_column_index, movement_action]\n",
    "    temporal_difference = reward + (gamma * np.max(q_table[row_index, column_index])) - old_q_table\n",
    "\n",
    "    #update the Q-value and table\n",
    "    new_q_value = old_q_table + (learning_rate * temporal_difference)\n",
    "    q_table[old_row_index, old_column_index, movement_action] = new_q_value\n",
    "\n",
    "print('Finished!')"
   ]
  },
  {
   "cell_type": "code",
   "execution_count": 13,
   "metadata": {},
   "outputs": [
    {
     "name": "stdout",
     "output_type": "stream",
     "text": [
      "[-100 -100 -100   -1   -1  100   -1   -1 -100 -100   -1]\n",
      "[-100 -100 -100   -1 -100   -1 -100   -1 -100 -100   -1]\n",
      "[-100 -100   -1   -1   -1   -1   -1   -1   -1   -1   -1]\n",
      "[-100 -100   -1 -100 -100   -1 -100   -1 -100 -100   -1]\n",
      "[-100   -1   -1   -1   -1   -1   -1   -1   -1   -1   -1]\n",
      "[-100 -100 -100 -100 -100   -1 -100 -100 -100 -100 -100]\n",
      "[-100   -1   -1   -1   -1   -1   -1   -1   -1   -1   -1]\n",
      "[  -1   -1 -100 -100 -100   -1 -100 -100 -100 -100   -1]\n",
      "[  -1 -100 -100 -100 -100   -1 -100 -100 -100 -100   -1]\n",
      "[  -1   -1 -100 -100 -100   -1 -100   -1 -100 -100   -1]\n",
      "[  -1 -100 -100 -100 -100   -1   -1   -1 -100 -100   -1]\n"
     ]
    }
   ],
   "source": [
    "for row in rewards:\n",
    "  print(row)"
   ]
  },
  {
   "cell_type": "code",
   "execution_count": 19,
   "metadata": {
    "id": "F1YO3mj_oS2J"
   },
   "outputs": [
    {
     "name": "stdout",
     "output_type": "stream",
     "text": [
      "[[4, 2], [4, 3], [4, 4], [4, 5], [3, 5], [2, 5], [1, 5], [0, 5]]\n"
     ]
    }
   ],
   "source": [
    "print(get_shortest_path(4, 2)) "
   ]
  },
  {
   "cell_type": "code",
   "execution_count": null,
   "metadata": {},
   "outputs": [],
   "source": []
  },
  {
   "cell_type": "code",
   "execution_count": null,
   "metadata": {},
   "outputs": [],
   "source": []
  },
  {
   "cell_type": "code",
   "execution_count": null,
   "metadata": {},
   "outputs": [],
   "source": []
  }
 ],
 "metadata": {
  "colab": {
   "name": "Notebook for Topic 08 Video - Q-Learning - A Complete Example in Python.ipynb",
   "provenance": []
  },
  "kernelspec": {
   "display_name": "Python 3",
   "language": "python",
   "name": "python3"
  },
  "language_info": {
   "codemirror_mode": {
    "name": "ipython",
    "version": 3
   },
   "file_extension": ".py",
   "mimetype": "text/x-python",
   "name": "python",
   "nbconvert_exporter": "python",
   "pygments_lexer": "ipython3",
   "version": "3.8.3"
  }
 },
 "nbformat": 4,
 "nbformat_minor": 4
}
