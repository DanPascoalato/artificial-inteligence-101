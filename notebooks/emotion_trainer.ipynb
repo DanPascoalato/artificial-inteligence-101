{
 "cells": [
  {
   "cell_type": "markdown",
   "metadata": {},
   "source": [
    "## Import dos dados"
   ]
  },
  {
   "cell_type": "code",
   "execution_count": 1,
   "metadata": {},
   "outputs": [],
   "source": [
    "import string\n",
    "from pathlib import Path\n",
    "from collections import Counter\n",
    "import math\n",
    "import re\n",
    "import pandas as pd\n",
    "import numpy as np"
   ]
  },
  {
   "cell_type": "code",
   "execution_count": 2,
   "metadata": {},
   "outputs": [],
   "source": [
    "datasets_dir = Path().absolute().parent.joinpath('datasets')\n",
    "reviews = f\"{datasets_dir}/imdb-reviews-pt-br.csv\""
   ]
  },
  {
   "cell_type": "code",
   "execution_count": 3,
   "metadata": {},
   "outputs": [
    {
     "data": {
      "text/html": [
       "<div>\n",
       "<style scoped>\n",
       "    .dataframe tbody tr th:only-of-type {\n",
       "        vertical-align: middle;\n",
       "    }\n",
       "\n",
       "    .dataframe tbody tr th {\n",
       "        vertical-align: top;\n",
       "    }\n",
       "\n",
       "    .dataframe thead th {\n",
       "        text-align: right;\n",
       "    }\n",
       "</style>\n",
       "<table border=\"1\" class=\"dataframe\">\n",
       "  <thead>\n",
       "    <tr style=\"text-align: right;\">\n",
       "      <th></th>\n",
       "      <th>id</th>\n",
       "      <th>text_en</th>\n",
       "      <th>text_pt</th>\n",
       "      <th>sentiment</th>\n",
       "    </tr>\n",
       "  </thead>\n",
       "  <tbody>\n",
       "    <tr>\n",
       "      <th>0</th>\n",
       "      <td>1</td>\n",
       "      <td>Once again Mr. Costner has dragged out a movie...</td>\n",
       "      <td>Mais uma vez, o Sr. Costner arrumou um filme p...</td>\n",
       "      <td>neg</td>\n",
       "    </tr>\n",
       "    <tr>\n",
       "      <th>1</th>\n",
       "      <td>2</td>\n",
       "      <td>This is an example of why the majority of acti...</td>\n",
       "      <td>Este é um exemplo do motivo pelo qual a maiori...</td>\n",
       "      <td>neg</td>\n",
       "    </tr>\n",
       "    <tr>\n",
       "      <th>2</th>\n",
       "      <td>3</td>\n",
       "      <td>First of all I hate those moronic rappers, who...</td>\n",
       "      <td>Primeiro de tudo eu odeio esses raps imbecis, ...</td>\n",
       "      <td>neg</td>\n",
       "    </tr>\n",
       "    <tr>\n",
       "      <th>3</th>\n",
       "      <td>4</td>\n",
       "      <td>Not even the Beatles could write songs everyon...</td>\n",
       "      <td>Nem mesmo os Beatles puderam escrever músicas ...</td>\n",
       "      <td>neg</td>\n",
       "    </tr>\n",
       "    <tr>\n",
       "      <th>4</th>\n",
       "      <td>5</td>\n",
       "      <td>Brass pictures movies is not a fitting word fo...</td>\n",
       "      <td>Filmes de fotos de latão não é uma palavra apr...</td>\n",
       "      <td>neg</td>\n",
       "    </tr>\n",
       "  </tbody>\n",
       "</table>\n",
       "</div>"
      ],
      "text/plain": [
       "   id                                            text_en  \\\n",
       "0   1  Once again Mr. Costner has dragged out a movie...   \n",
       "1   2  This is an example of why the majority of acti...   \n",
       "2   3  First of all I hate those moronic rappers, who...   \n",
       "3   4  Not even the Beatles could write songs everyon...   \n",
       "4   5  Brass pictures movies is not a fitting word fo...   \n",
       "\n",
       "                                             text_pt sentiment  \n",
       "0  Mais uma vez, o Sr. Costner arrumou um filme p...       neg  \n",
       "1  Este é um exemplo do motivo pelo qual a maiori...       neg  \n",
       "2  Primeiro de tudo eu odeio esses raps imbecis, ...       neg  \n",
       "3  Nem mesmo os Beatles puderam escrever músicas ...       neg  \n",
       "4  Filmes de fotos de latão não é uma palavra apr...       neg  "
      ]
     },
     "execution_count": 3,
     "metadata": {},
     "output_type": "execute_result"
    }
   ],
   "source": [
    "df = pd.read_csv(reviews)\n",
    "df.head()"
   ]
  },
  {
   "cell_type": "code",
   "execution_count": 4,
   "metadata": {},
   "outputs": [
    {
     "data": {
      "text/html": [
       "<div>\n",
       "<style scoped>\n",
       "    .dataframe tbody tr th:only-of-type {\n",
       "        vertical-align: middle;\n",
       "    }\n",
       "\n",
       "    .dataframe tbody tr th {\n",
       "        vertical-align: top;\n",
       "    }\n",
       "\n",
       "    .dataframe thead th {\n",
       "        text-align: right;\n",
       "    }\n",
       "</style>\n",
       "<table border=\"1\" class=\"dataframe\">\n",
       "  <thead>\n",
       "    <tr style=\"text-align: right;\">\n",
       "      <th></th>\n",
       "      <th>id</th>\n",
       "      <th>text_en</th>\n",
       "      <th>text_pt</th>\n",
       "    </tr>\n",
       "    <tr>\n",
       "      <th>sentiment</th>\n",
       "      <th></th>\n",
       "      <th></th>\n",
       "      <th></th>\n",
       "    </tr>\n",
       "  </thead>\n",
       "  <tbody>\n",
       "    <tr>\n",
       "      <th>neg</th>\n",
       "      <td>24765</td>\n",
       "      <td>24765</td>\n",
       "      <td>24765</td>\n",
       "    </tr>\n",
       "    <tr>\n",
       "      <th>pos</th>\n",
       "      <td>24694</td>\n",
       "      <td>24694</td>\n",
       "      <td>24694</td>\n",
       "    </tr>\n",
       "  </tbody>\n",
       "</table>\n",
       "</div>"
      ],
      "text/plain": [
       "              id  text_en  text_pt\n",
       "sentiment                         \n",
       "neg        24765    24765    24765\n",
       "pos        24694    24694    24694"
      ]
     },
     "execution_count": 4,
     "metadata": {},
     "output_type": "execute_result"
    }
   ],
   "source": [
    "df.groupby('sentiment').count()"
   ]
  },
  {
   "cell_type": "code",
   "execution_count": 5,
   "metadata": {},
   "outputs": [],
   "source": [
    "neg_sentences = 24765\n",
    "pos_sentences = 24694"
   ]
  },
  {
   "cell_type": "markdown",
   "metadata": {},
   "source": [
    "## Tratamento do texto e treinamento"
   ]
  },
  {
   "cell_type": "code",
   "execution_count": 6,
   "metadata": {},
   "outputs": [],
   "source": [
    "stopwords = ['de', 'a', 'o', 'que', 'e', 'do', 'da', 'em', 'um', 'para', 'é', 'com', 'não', 'uma', 'os', 'no', 'se', 'na', 'por', 'mais', 'as', 'dos', 'como', 'mas', 'foi', 'ao', 'ele', 'das', 'tem', 'à', 'seu', 'sua', 'ou', 'ser', 'quando', 'muito', \n",
    "             'há', 'nos', 'já', 'está', 'eu', 'também', 'só', 'pelo', 'pela', 'até', 'isso', 'ela', 'entre', 'era', 'depois', 'sem', 'mesmo', 'aos', 'ter', 'seus', 'quem', 'nas', 'me', 'esse', 'eles', 'estão', 'você', 'tinha', 'foram', 'essa', 'num', \n",
    "             'nem', 'suas', 'meu', 'às', 'minha', 'têm', 'numa', 'pelos', 'elas', 'havia', 'seja', 'qual', 'será', 'nós', 'tenho', 'lhe', 'deles', 'essas', 'esses', 'pelas', 'este', 'fosse', 'dele', 'tu', 'te', 'vocês', 'vos', 'lhes', 'meus', 'minhas' \n",
    "             'teu', 'tua', 'teus', 'tuas', 'nosso', 'nossa', 'nossos', 'nossas', 'dela', 'delas', 'esta', 'estes', 'estas', 'aquele', 'aquela', 'aqueles', 'aquelas', 'isto', 'aquilo', 'estou', 'está', 'estamos', 'estão', 'estive', 'esteve', 'estivemos', \n",
    "             'estiveram', 'estava', 'estávamos', 'estavam', 'estivera', 'estivéramos', 'esteja', 'estejamos', 'estejam', 'estivesse', 'estivéssemos', 'estivessem', 'estiver', 'estivermos', 'estiverem', 'hei', 'há', 'havemos', 'hão', 'houve', 'houvemos', \n",
    "             'houveram', 'houvera', 'houvéramos', 'haja', 'hajamos', 'hajam', 'houvesse', 'houvéssemos', 'houvessem', 'houver', 'houvermos', 'houverem', 'houverei', 'houverá', 'houveremos', 'houverão', 'houveria', 'houveríamos', 'houveriam', 'sou', \n",
    "             'somos', 'são', 'era', 'éramos', 'eram', 'fui', 'foi', 'fomos', 'foram', 'fora', 'fôramos', 'seja', 'sejamos', 'sejam', 'fosse', 'fôssemos', 'fossem', 'for', 'formos', 'forem', 'serei', 'será', 'seremos', 'serão', 'seria', 'seríamos', \n",
    "             'seriam', 'tenho', 'tem', 'temos', 'tém', 'tinha', 'tínhamos', 'tinham', 'tive', 'teve', 'tivemos', 'tiveram', 'tivera', 'tivéramos', 'tenha', 'tenhamos', 'tenham', 'tivesse', 'tivéssemos', 'tivessem', 'tiver', 'tivermos', 'tiverem', \n",
    "             'terei', 'terá', 'teremos', 'terão', 'teria', 'teríamos', 'teriam', '.', ',']\n",
    "\n",
    "positive_rev = []\n",
    "negative_rev = []"
   ]
  },
  {
   "cell_type": "code",
   "execution_count": 7,
   "metadata": {},
   "outputs": [],
   "source": [
    "del df['id']\n",
    "del df['text_en']"
   ]
  },
  {
   "cell_type": "code",
   "execution_count": 8,
   "metadata": {},
   "outputs": [],
   "source": [
    "for index, row in df.iterrows():\n",
    "    if(row['sentiment'] == 'neg'):\n",
    "        negative_rev.append(row['text_pt'])\n",
    "    elif (row['sentiment'] == 'pos'):\n",
    "        positive_rev.append(row['text_pt'])"
   ]
  },
  {
   "cell_type": "code",
   "execution_count": 9,
   "metadata": {},
   "outputs": [],
   "source": [
    "#Separando para testes\n",
    "training_negative_rev = negative_rev[18573:]\n",
    "training_positive_rev = positive_rev[18520:]\n",
    "testing_negative_rev = negative_rev[:18574]\n",
    "testing_positive_rev = positive_rev[:18520]\n",
    "testing_reviews = testing_negative_rev + testing_positive_rev"
   ]
  },
  {
   "cell_type": "code",
   "execution_count": 10,
   "metadata": {},
   "outputs": [],
   "source": [
    "def remove_stopword(dictionary):\n",
    "    delete = [key for key in dictionary if key in stopwords]\n",
    "    for key in delete: del dictionary[key]\n",
    "    return dictionary     "
   ]
  },
  {
   "cell_type": "code",
   "execution_count": 11,
   "metadata": {},
   "outputs": [],
   "source": [
    "def format_text(array):\n",
    "    normalized = [str.lower(sentence) for sentence in array]\n",
    "    split = [re.findall(r\"[\\w']+|[,.!?;]\", item) for item in normalized]\n",
    "    flat_split = []\n",
    "    for lists in split:\n",
    "        for words in lists:\n",
    "            flat_split.append(words)\n",
    "    return flat_split"
   ]
  },
  {
   "cell_type": "code",
   "execution_count": 12,
   "metadata": {},
   "outputs": [],
   "source": [
    "def format_text_count(array):\n",
    "    normalized = [str.lower(sentence) for sentence in array]\n",
    "    split = [re.findall(r\"[\\w']+|[,.!?;]\", item) for item in normalized]\n",
    "    counter = [Counter(word) for word in split]\n",
    "    summed = Counter({})\n",
    "    for word in counter:\n",
    "            summed += Counter(word)\n",
    "    return summed   "
   ]
  },
  {
   "cell_type": "code",
   "execution_count": 13,
   "metadata": {},
   "outputs": [],
   "source": [
    "negatives_word_count = format_text_count(training_negative_rev)\n",
    "positives_word_count = format_text_count(training_positive_rev)"
   ]
  },
  {
   "cell_type": "code",
   "execution_count": 14,
   "metadata": {},
   "outputs": [],
   "source": [
    "negative_words = remove_stopword(negatives_word_count)\n",
    "positive_words = remove_stopword(positives_word_count)"
   ]
  },
  {
   "cell_type": "code",
   "execution_count": 15,
   "metadata": {},
   "outputs": [],
   "source": [
    "def cal_number_of(dictionary):\n",
    "    numbers = 0\n",
    "    for value in dictionary.values():\n",
    "       numbers += value\n",
    "    return numbers    "
   ]
  },
  {
   "cell_type": "code",
   "execution_count": 16,
   "metadata": {},
   "outputs": [],
   "source": [
    "numb_of_negative_words = cal_number_of(negative_words)\n",
    "numb_of_positive_words = cal_number_of(positive_words)\n",
    "numb_of_words = numb_of_negative_words + numb_of_positive_words"
   ]
  },
  {
   "cell_type": "markdown",
   "metadata": {},
   "source": [
    "## Classificação"
   ]
  },
  {
   "cell_type": "code",
   "execution_count": 17,
   "metadata": {},
   "outputs": [],
   "source": [
    "#log P(C)\n",
    "prob_of_neg = math.log((neg_sentences) / (pos_sentences+neg_sentences), 10)\n",
    "prob_of_pos = math.log((pos_sentences) / (pos_sentences+neg_sentences), 10)"
   ]
  },
  {
   "cell_type": "code",
   "execution_count": 18,
   "metadata": {},
   "outputs": [],
   "source": [
    "#E log(P(Wi|c))\n",
    "def calc_prob_of_word_in_context(word, context):\n",
    "    if(context == 'neg'):\n",
    "        probability = math.log((negative_words[word] + 1) / (numb_of_negative_words + numb_of_words), 10)\n",
    "    elif(context =='pos'):\n",
    "        probability = math.log((positive_words[word] + 1) / (numb_of_positive_words + numb_of_words), 10)\n",
    "    return probability    "
   ]
  },
  {
   "cell_type": "code",
   "execution_count": 19,
   "metadata": {},
   "outputs": [],
   "source": [
    "def ascertain_context(review):\n",
    "    prob_of_negative = 0.0\n",
    "    prob_of_positive = 0.0\n",
    "    prob_of_words_in_negative = 0.0\n",
    "    prob_of_words_in_positive = 0.0\n",
    "    for words in review:\n",
    "        prob_of_words_in_negative += (calc_prob_of_word_in_context(words, 'neg'))\n",
    "        prob_of_words_in_positive += (calc_prob_of_word_in_context(words, 'pos'))\n",
    "    \n",
    "    prob_of_negative = prob_of_neg + prob_of_words_in_negative\n",
    "    prob_of_positive = prob_of_pos + prob_of_words_in_positive\n",
    "    \n",
    "    if(prob_of_negative > prob_of_positive):\n",
    "        return 'Negative'\n",
    "    elif(prob_of_negative < prob_of_positive):\n",
    "        return 'Positive'"
   ]
  },
  {
   "cell_type": "code",
   "execution_count": 21,
   "metadata": {},
   "outputs": [
    {
     "name": "stdin",
     "output_type": "stream",
     "text": [
      "Selecione um número de 0 a 37093:  37090\n"
     ]
    },
    {
     "name": "stdout",
     "output_type": "stream",
     "text": [
      "Review escolhida:  Eu não vi esse filme há anos, então meu conhecimento é um pouco enferrujado. Eu me lembro de pensar que este filme é o dobro do filme de Braveheart. É simplesmente mais realista e tem personagens mais críveis. Ridb Roy parece que se pode imaginar que Rob Roy se parece com um cabelo bagunçado e barba com roupas simples. Também o Liam Nesson tem um olhar celta sobre ele, ele parece um escocês e, mais importante, se parece com Rob Roy. É uma comparação que irrita algumas pessoas, mas o compara a Mel Gibson como William Wallace. Gibson supostamente está interpretando um homem cuja lenda fez com que ele fosse descrito como um gigante de 6 pés 7, enquanto Gibson é quase um pé mais baixo. A história contém um pouco de romance, conspiração e uma história de azarão. Soa qualquer coisa como Braveheart? Mas em vez de um filme que grita \"liberdade\", liberdade e nacionalismo, temos um filme que diz respeito a honra, amor e justiça. Isso torna um filme mais interessante. Muito parecido com o Gladiador. O elenco é fantástico e Liam Nesson é um líder muito forte nesse empreendimento. A história é ótima com a forma como lida com heroísmo e humanidade. A cena em que Mary é estuprada e ela sai da casa em chamas com um olhar de verdadeira força escocesa é seguida por ela lavando o sêmen de sua virilha em um pânico extremo. Isso é algo que uma heroína em Braveheart nunca faria. No geral, este é um relógio impressionante e quase impecável. Vá e veja!\n",
      "Positive\n"
     ]
    }
   ],
   "source": [
    "class Classification():\n",
    "    selected_number = input(\"Selecione um número de 0 a 37093: \")\n",
    "    print(\"Review escolhida: \", testing_reviews[int(selected_number)])\n",
    "    split_selected_text = format_text([testing_reviews[int(selected_number)]])\n",
    "    print(ascertain_context(split_selected_text))"
   ]
  },
  {
   "cell_type": "code",
   "execution_count": null,
   "metadata": {},
   "outputs": [],
   "source": [
    "# negative examples: 1 and 8\n",
    "#positive examples: 37090  and 37093"
   ]
  }
 ],
 "metadata": {
  "kernelspec": {
   "display_name": "Python 3",
   "language": "python",
   "name": "python3"
  },
  "language_info": {
   "codemirror_mode": {
    "name": "ipython",
    "version": 3
   },
   "file_extension": ".py",
   "mimetype": "text/x-python",
   "name": "python",
   "nbconvert_exporter": "python",
   "pygments_lexer": "ipython3",
   "version": "3.8.3"
  }
 },
 "nbformat": 4,
 "nbformat_minor": 4
}
