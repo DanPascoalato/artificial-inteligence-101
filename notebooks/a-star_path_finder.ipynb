{
 "cells": [
  {
   "cell_type": "markdown",
   "metadata": {},
   "source": [
    "# Domain Definiftions"
   ]
  },
  {
   "cell_type": "code",
   "execution_count": 384,
   "metadata": {},
   "outputs": [],
   "source": [
    "from dataclasses import dataclass\n",
    "from enum import Enum\n",
    "from typing import List, Dict, Tuple, Optional\n"
   ]
  },
  {
   "cell_type": "code",
   "execution_count": 387,
   "metadata": {},
   "outputs": [],
   "source": [
    "@dataclass(frozen=False)\n",
    "class Node:\n",
    "    x: int\n",
    "    y: int\n",
    "    blocked: bool\n",
    "\n",
    "    def __init__(self, x: int, y: int):\n",
    "        self.x = x\n",
    "        self.y = y\n",
    "        self.blocked = Node.is_blocked()\n",
    "\n",
    "    \"\"\"\n",
    "    Generate a binomial random distribution of '0' and '1's\n",
    "    where '0's represent the node is blocked, and therefore \n",
    "    it cannot be reached\n",
    "    \"\"\"\n",
    "    @classmethod\n",
    "    def is_blocked(cls):\n",
    "        dist = np.random.binomial(1, 0.8)\n",
    "        return True if dist == 0 else False\n",
    "\n",
    "    @property\n",
    "    def id(self) -> Tuple[int, int]:\n",
    "        return self.x, self.y\n",
    "\n",
    "    def is_free(self):\n",
    "        return not self.blocked\n",
    "\n",
    "    def find_neighbors(self):\n",
    "        pass\n"
   ]
  },
  {
   "cell_type": "code",
   "execution_count": 388,
   "metadata": {},
   "outputs": [],
   "source": [
    "class Terrain(Enum):\n",
    "    Asphalt = (\"Terra\", 1)\n",
    "    Flooding = (\"Agua\", 3)\n",
    "    Quicksand = (\"Areia Movedica\", 6)\n"
   ]
  },
  {
   "cell_type": "code",
   "execution_count": 389,
   "metadata": {},
   "outputs": [],
   "source": [
    "@dataclass(frozen=False)\n",
    "class Edge:\n",
    "    source: Node\n",
    "    destionation: Node\n",
    "    terrain: Terrain\n",
    "\n",
    "    def __init__(self, source: Node, dest: Node, terrain: Terrain = Terrain.Asphalt):\n",
    "        self.source = source\n",
    "        self.destionation = dest\n",
    "        self.terrain = terrain\n",
    "\n",
    "    def update_terrain(self, terrain: Terrain):\n",
    "        self.terrain = terrain\n"
   ]
  },
  {
   "cell_type": "code",
   "execution_count": 390,
   "metadata": {},
   "outputs": [],
   "source": [
    "@dataclass(frozen=False)\n",
    "class Graph:\n",
    "    nodes: Dict[Tuple[int,int], Node]\n",
    "    edges: List[Edge]\n",
    "    x: Dict[Tuple[Node,Node],Edge]\n",
    "\n",
    "    def __init__(self):\n",
    "        self.nodes = {}\n",
    "        self.edges = []\n",
    "\n",
    "    def find_neighbors_of(self, node: Node):\n",
    "        if node.is_free():\n",
    "            for pos in self._find_neighbors_pos_estimation(node):\n",
    "                neighbor: Optional[Node] = self.nodes.get(pos)\n",
    "                if neighbor != None and neighbor.is_free():\n",
    "                    yield self.nodes.get(pos)\n",
    "\n",
    "    \"\"\"\n",
    "    estimated positions return a list of expected neighbors as follows: \n",
    "    up, down, left, right, up_right, up_left, down_right, down_left\n",
    "    \"\"\"\n",
    "    def _find_neighbors_pos_estimation(self, node: Node):\n",
    "        pos = node.id\n",
    "        estimated_neighbors = [\n",
    "            (pos[0], pos[1]-1),\n",
    "            (pos[0], pos[1]+1),\n",
    "            (pos[0]-1, pos[1]),\n",
    "            (pos[0]+1, pos[1]),\n",
    "            (pos[0]+1, pos[1]-1),\n",
    "            (pos[0]-1, pos[1]-1),\n",
    "            (pos[0]+1, pos[1]+1),\n",
    "            (pos[0]-1, pos[1]+1)\n",
    "        ]\n",
    "        return estimated_neighbors\n",
    "\n",
    "    def with_node(self, node: Node):\n",
    "        self.nodes[node.id] = node\n",
    "        return self\n",
    "\n",
    "    def with_nodes(self, nodes: List[Node]):\n",
    "        [self.with_node(node) for node in nodes]\n",
    "        return self\n",
    "\n",
    "    def with_edge(self, edge: Edge):\n",
    "        self.edges.append(edge)\n",
    "        return self\n",
    "\n",
    "    def with_edges(self, edges: List[Edge]):\n",
    "        [self.with_edge(edge) for edge in edges]\n",
    "        return self\n",
    "\n",
    "    def reset(self):\n",
    "        return Graph()\n"
   ]
  },
  {
   "cell_type": "markdown",
   "metadata": {},
   "source": [
    "# Graph Construction"
   ]
  },
  {
   "cell_type": "markdown",
   "metadata": {},
   "source": [
    "### Building the graph"
   ]
  },
  {
   "cell_type": "code",
   "execution_count": 391,
   "metadata": {},
   "outputs": [],
   "source": [
    "import numpy as np\n",
    "import matplotlib.pyplot as pt\n"
   ]
  },
  {
   "cell_type": "code",
   "execution_count": 392,
   "metadata": {},
   "outputs": [],
   "source": [
    "def generate_nodes(width: int, height: int):\n",
    "    for row_num in range(height):\n",
    "        for col_num in range(width):\n",
    "            yield Node(row_num, col_num)"
   ]
  },
  {
   "cell_type": "code",
   "execution_count": 393,
   "metadata": {},
   "outputs": [],
   "source": [
    "nodes = generate_nodes(area_width, area_height)\n",
    "graph = Graph().with_nodes(nodes)"
   ]
  },
  {
   "cell_type": "code",
   "execution_count": 394,
   "metadata": {},
   "outputs": [],
   "source": [
    "for node in graph.nodes.values():\n",
    "    neighbors: List[Node] = graph.find_neighbors_of(node)\n",
    "    edges: List[Edge] = [Edge(node, neighbor) for neighbor in neighbors]\n",
    "    graph.with_edges(edges)"
   ]
  },
  {
   "cell_type": "markdown",
   "metadata": {},
   "source": [
    "### Sort Terrains in Graph to screw with the edges originating from it"
   ]
  },
  {
   "cell_type": "code",
   "execution_count": null,
   "metadata": {},
   "outputs": [],
   "source": []
  },
  {
   "cell_type": "markdown",
   "metadata": {},
   "source": [
    "# PathFinder Algorithm"
   ]
  },
  {
   "cell_type": "markdown",
   "metadata": {},
   "source": [
    "### A* Implementation"
   ]
  },
  {
   "cell_type": "code",
   "execution_count": null,
   "metadata": {},
   "outputs": [],
   "source": []
  },
  {
   "cell_type": "markdown",
   "metadata": {},
   "source": [
    "# Graph Visualization"
   ]
  },
  {
   "cell_type": "code",
   "execution_count": null,
   "metadata": {},
   "outputs": [],
   "source": []
  },
  {
   "cell_type": "code",
   "execution_count": null,
   "metadata": {},
   "outputs": [],
   "source": []
  }
 ],
 "metadata": {
  "kernelspec": {
   "display_name": "Python 3.8.2 64-bit",
   "language": "python",
   "name": "python38264bit2c1b7a46cd9945cba13568f8d3df8e1e"
  },
  "language_info": {
   "codemirror_mode": {
    "name": "ipython",
    "version": 3
   },
   "file_extension": ".py",
   "mimetype": "text/x-python",
   "name": "python",
   "nbconvert_exporter": "python",
   "pygments_lexer": "ipython3",
   "version": "3.8.2"
  }
 },
 "nbformat": 4,
 "nbformat_minor": 4
}
