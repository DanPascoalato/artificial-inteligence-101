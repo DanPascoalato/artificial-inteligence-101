{
 "cells": [
  {
   "cell_type": "markdown",
   "metadata": {},
   "source": [
    "# Domain Definiftions"
   ]
  },
  {
   "cell_type": "code",
   "execution_count": 162,
   "metadata": {},
   "outputs": [],
   "source": [
    "from collections import deque as stack\n",
    "from dataclasses import dataclass\n",
    "from enum import Enum\n",
    "from typing import List, Set, Dict, Tuple, Optional\n"
   ]
  },
  {
   "cell_type": "code",
   "execution_count": 171,
   "metadata": {},
   "outputs": [],
   "source": [
    "@dataclass(frozen=False)\n",
    "class Node:\n",
    "    x: int\n",
    "    y: int\n",
    "    blocked: bool\n",
    "\n",
    "    def __init__(self, x: int, y: int, blocked: bool = Node.is_blocked()):\n",
    "        self.x = x\n",
    "        self.y = y\n",
    "        self.blocked = False\n",
    "\n",
    "    \"\"\"\n",
    "    Generate a binomial random distribution of '0' and '1's\n",
    "    where '0's represent the node is blocked, and therefore \n",
    "    it cannot be reached\n",
    "    \"\"\"\n",
    "    @classmethod\n",
    "    def is_blocked(cls):\n",
    "        dist = np.random.binomial(1, 0.8)\n",
    "        return True if dist == 0 else False\n",
    "\n",
    "    @property\n",
    "    def id(self) -> Tuple[int, int]:\n",
    "        return self.x, self.y\n",
    "\n",
    "    def is_free(self):\n",
    "        return not self.blocked\n",
    "\n",
    "    def find_neighbors(self):\n",
    "        pass\n",
    "\n",
    "    def __hash__(self):\n",
    "        return self.id.__hash__()"
   ]
  },
  {
   "cell_type": "code",
   "execution_count": 172,
   "metadata": {},
   "outputs": [],
   "source": [
    "class Terrain(Enum):\n",
    "    Asphalt = (\"Terra\", 1)\n",
    "    Flooding = (\"Agua\", 3)\n",
    "    Quicksand = (\"Areia Movedica\", 6)\n"
   ]
  },
  {
   "cell_type": "code",
   "execution_count": 173,
   "metadata": {},
   "outputs": [],
   "source": [
    "@dataclass(frozen=False)\n",
    "class Edge:\n",
    "    source: Node\n",
    "    destination: Node\n",
    "    terrain: Terrain\n",
    "\n",
    "    def __init__(self, source: Node, dest: Node, terrain: Terrain = Terrain.Asphalt):\n",
    "        self.source = source\n",
    "        self.destination = dest\n",
    "        self.terrain = terrain\n",
    "\n",
    "    @property\n",
    "    def weight(self):\n",
    "        return self.terrain.value[1]\n",
    "    \n",
    "    def update_terrain(self, terrain: Terrain):\n",
    "        self.terrain = terrain"
   ]
  },
  {
   "cell_type": "code",
   "execution_count": 174,
   "metadata": {},
   "outputs": [],
   "source": [
    "@dataclass(frozen=False)\n",
    "class Graph:\n",
    "    nodes: Dict[Tuple[int,int], Node]\n",
    "    edges: Dict[Tuple[Node,Node], Edge]\n",
    "\n",
    "    def __init__(self):\n",
    "        self.nodes = dict()\n",
    "        self.edges = dict()\n",
    "\n",
    "    def find_neighbors_of(self, node: Node):\n",
    "        if node.is_free():\n",
    "            for pos in self._find_neighbors_pos_estimation(node):\n",
    "                neighbor: Optional[Node] = self.nodes.get(pos)\n",
    "                if neighbor != None and neighbor.is_free():\n",
    "                    yield self.nodes.get(pos)\n",
    "\n",
    "    def find_edge_connecting(self, source: Node, dest: Node):\n",
    "        return self.edges.get((source, dest))\n",
    "\n",
    "    \"\"\"\n",
    "    estimated positions return a list of expected neighbors as follows: \n",
    "    up, down, left, right, up_right, up_left, down_right, down_left\n",
    "    \"\"\"\n",
    "    def _find_neighbors_pos_estimation(self, node: Node):\n",
    "        pos = node.id\n",
    "        estimated_neighbors = [\n",
    "            (pos[0], pos[1]-1),\n",
    "            (pos[0], pos[1]+1),\n",
    "            (pos[0]-1, pos[1]),\n",
    "            (pos[0]+1, pos[1]),\n",
    "            (pos[0]+1, pos[1]-1),\n",
    "            (pos[0]-1, pos[1]-1),\n",
    "            (pos[0]+1, pos[1]+1),\n",
    "            (pos[0]-1, pos[1]+1)\n",
    "        ]\n",
    "        return estimated_neighbors\n",
    "\n",
    "    def with_node(self, node: Node):\n",
    "        self.nodes[node.id] = node\n",
    "        return self\n",
    "\n",
    "    def with_nodes(self, nodes: List[Node]):\n",
    "        [self.with_node(node) for node in nodes]\n",
    "        return self\n",
    "\n",
    "    def with_edge(self, edge: Edge):\n",
    "        src = edge.source\n",
    "        dest = edge.destination\n",
    "        self.edges[src,dest] = edge\n",
    "        return self\n",
    "\n",
    "    def with_edges(self, edges: List[Edge]):\n",
    "        [self.with_edge(edge) for edge in edges]\n",
    "        return self\n",
    "\n",
    "    def reset(self):\n",
    "        return Graph()\n"
   ]
  },
  {
   "cell_type": "markdown",
   "metadata": {},
   "source": [
    "# Graph Construction"
   ]
  },
  {
   "cell_type": "markdown",
   "metadata": {},
   "source": [
    "### Building the graph"
   ]
  },
  {
   "cell_type": "code",
   "execution_count": 270,
   "metadata": {},
   "outputs": [],
   "source": [
    "import numpy as np\n",
    "import matplotlib.pyplot as pt\n",
    "import math"
   ]
  },
  {
   "cell_type": "code",
   "execution_count": 271,
   "metadata": {},
   "outputs": [],
   "source": [
    "def generate_nodes(width: int, height: int):\n",
    "    for row_num in range(width):\n",
    "        for col_num in range(height):\n",
    "            yield Node(row_num, col_num)"
   ]
  },
  {
   "cell_type": "code",
   "execution_count": 272,
   "metadata": {},
   "outputs": [],
   "source": [
    "area_width = 3\n",
    "area_height = 4"
   ]
  },
  {
   "cell_type": "code",
   "execution_count": 273,
   "metadata": {},
   "outputs": [],
   "source": [
    "nodes = list(generate_nodes(area_width, area_height))\n",
    "graph = Graph().with_nodes(nodes)"
   ]
  },
  {
   "cell_type": "code",
   "execution_count": 279,
   "metadata": {},
   "outputs": [],
   "source": [
    "## For debugging purposes only\n",
    "\n",
    "entries = [(1,1), (1,2), (2,2)]\n",
    "\n",
    "for entry in entries:\n",
    "    node = graph.nodes.get(entry)\n",
    "    node.blocked = True"
   ]
  },
  {
   "cell_type": "code",
   "execution_count": 280,
   "metadata": {},
   "outputs": [],
   "source": [
    "for node in graph.nodes.values():\n",
    "    neighbors: List[Node] = graph.find_neighbors_of(node)\n",
    "    edges: List[Edge] = [Edge(node, neighbor) for neighbor in neighbors]\n",
    "    graph.with_edges(edges)"
   ]
  },
  {
   "cell_type": "markdown",
   "metadata": {},
   "source": [
    "### Sort Terrains in Graph to screw with the edges originating from it"
   ]
  },
  {
   "cell_type": "markdown",
   "metadata": {},
   "source": [
    "# PathFinder Algorithm"
   ]
  },
  {
   "cell_type": "markdown",
   "metadata": {},
   "source": [
    "### A* Implementation"
   ]
  },
  {
   "cell_type": "code",
   "execution_count": 282,
   "metadata": {},
   "outputs": [],
   "source": [
    "class AStarAlgorithm:\n",
    "    graph: Graph\n",
    "    visited_nodes: Set[Node]\n",
    "\n",
    "    def __init__(self, graph: Graph):\n",
    "        self.graph = graph\n",
    "        self.visited_nodes = set()\n",
    "        self.path_stack = stack()\n",
    "\n",
    "    def shortest_path_between(self, source: Node, target: Node) -> List[Node]:\n",
    "        neighbors: Set[Node] = set(graph.find_neighbors_of(source))\n",
    "        neighbors = neighbors.difference(visited_nodes)\n",
    "\n",
    "        if len(neighbors) > 0:\n",
    "            edges: List[Edge] = [graph.find_edge_connecting(source, neighbor) for neighbor in neighbors]\n",
    "            nodes_heuristics = [a_star.distance_between(edge.destination, target, edge.weight) for edge in edges]\n",
    "            best_node_heuristic = min(nodes_heuristics, key=lambda h: h[1])\n",
    "            selected_neighbor = best_node_heuristic[0]\n",
    "\n",
    "            self.visited_node.add(source)\n",
    "            self.path_stack.append(source)\n",
    "            shortest_path_between(source=selected_neighbor, target=target)\n",
    "\n",
    "        else:\n",
    "            # Rollback\n",
    "            last_visited_node = self.path_stack.pop()\n",
    "            visited_nodes.remove(last_visited_node)\n",
    "            visited.nodes.add(source)\n",
    "\n",
    "\n",
    "\n",
    "    def distance_between(self, node: Node, target: Node, cost_to_node: int):\n",
    "        euclidian_dist = pow(target.x - node.x,2) + pow(target.y - node.y,2)\n",
    "        heuristic = math.sqrt(euclidian_dist) + cost_to_node\n",
    "        return node, heuristic"
   ]
  },
  {
   "cell_type": "code",
   "execution_count": 110,
   "metadata": {},
   "outputs": [],
   "source": [
    "a_star = AStarAlgorithm(graph)\n",
    "source = graph.nodes.get((0,0))\n",
    "dest = graph.nodes.get((area_width-1, area_height-1))"
   ]
  },
  {
   "cell_type": "code",
   "execution_count": 133,
   "metadata": {},
   "outputs": [
    {
     "data": {
      "text/plain": [
       "{Node(x=0, y=1, blocked=False),\n",
       " Node(x=1, y=0, blocked=False),\n",
       " Node(x=1, y=1, blocked=False)}"
      ]
     },
     "execution_count": 133,
     "metadata": {},
     "output_type": "execute_result"
    }
   ],
   "source": [
    "set(graph.find_neighbors_of(Node(0,0)))"
   ]
  },
  {
   "cell_type": "code",
   "execution_count": 65,
   "metadata": {},
   "outputs": [
    {
     "data": {
      "text/plain": [
       "{'selected': Node(x=1, y=1, blocked=False),\n",
       " 'neighbors': [Node(x=0, y=1, blocked=False),\n",
       "  Node(x=1, y=0, blocked=False),\n",
       "  Node(x=1, y=1, blocked=False)]}"
      ]
     },
     "execution_count": 65,
     "metadata": {},
     "output_type": "execute_result"
    }
   ],
   "source": [
    "possibilities"
   ]
  },
  {
   "cell_type": "markdown",
   "metadata": {},
   "source": [
    "# Graph Visualization"
   ]
  },
  {
   "cell_type": "code",
   "execution_count": 88,
   "metadata": {},
   "outputs": [],
   "source": [
    "x = Node(0, 0)\n",
    "y = Node(0, 5)"
   ]
  },
  {
   "cell_type": "code",
   "execution_count": 89,
   "metadata": {},
   "outputs": [],
   "source": [
    "a = set()"
   ]
  },
  {
   "cell_type": "code",
   "execution_count": 90,
   "metadata": {},
   "outputs": [],
   "source": [
    "a.add(x)\n",
    "a.add(x)"
   ]
  },
  {
   "cell_type": "code",
   "execution_count": 91,
   "metadata": {},
   "outputs": [
    {
     "data": {
      "text/plain": [
       "{Node(x=0, y=0, blocked=False)}"
      ]
     },
     "execution_count": 91,
     "metadata": {},
     "output_type": "execute_result"
    }
   ],
   "source": [
    "a"
   ]
  },
  {
   "cell_type": "code",
   "execution_count": 113,
   "metadata": {},
   "outputs": [
    {
     "ename": "TypeError",
     "evalue": "descriptor 'append' for 'collections.deque' objects doesn't apply to a 'int' object",
     "output_type": "error",
     "traceback": [
      "\u001b[0;31m---------------------------------------------------------------------------\u001b[0m",
      "\u001b[0;31mTypeError\u001b[0m                                 Traceback (most recent call last)",
      "\u001b[0;32m<ipython-input-113-1f2d771d1167>\u001b[0m in \u001b[0;36m<module>\u001b[0;34m\u001b[0m\n\u001b[0;32m----> 1\u001b[0;31m \u001b[0mstack\u001b[0m\u001b[0;34m.\u001b[0m\u001b[0mappend\u001b[0m\u001b[0;34m(\u001b[0m\u001b[0;36m1\u001b[0m\u001b[0;34m)\u001b[0m\u001b[0;34m\u001b[0m\u001b[0;34m\u001b[0m\u001b[0m\n\u001b[0m",
      "\u001b[0;31mTypeError\u001b[0m: descriptor 'append' for 'collections.deque' objects doesn't apply to a 'int' object"
     ]
    }
   ],
   "source": [
    "stack.append(1)"
   ]
  },
  {
   "cell_type": "code",
   "execution_count": 96,
   "metadata": {},
   "outputs": [],
   "source": [
    "from collections import deque"
   ]
  },
  {
   "cell_type": "code",
   "execution_count": 114,
   "metadata": {},
   "outputs": [],
   "source": [
    "s = stack()"
   ]
  },
  {
   "cell_type": "code",
   "execution_count": 115,
   "metadata": {},
   "outputs": [],
   "source": [
    "s.append(x)"
   ]
  },
  {
   "cell_type": "code",
   "execution_count": 116,
   "metadata": {},
   "outputs": [
    {
     "data": {
      "text/plain": [
       "deque([Node(x=0, y=0, blocked=False)])"
      ]
     },
     "execution_count": 116,
     "metadata": {},
     "output_type": "execute_result"
    }
   ],
   "source": [
    "s\n"
   ]
  }
 ],
 "metadata": {
  "kernelspec": {
   "display_name": "Python 3.8.2 64-bit",
   "language": "python",
   "name": "python38264bit2c1b7a46cd9945cba13568f8d3df8e1e"
  },
  "language_info": {
   "codemirror_mode": {
    "name": "ipython",
    "version": 3
   },
   "file_extension": ".py",
   "mimetype": "text/x-python",
   "name": "python",
   "nbconvert_exporter": "python",
   "pygments_lexer": "ipython3",
   "version": "3.8.2"
  }
 },
 "nbformat": 4,
 "nbformat_minor": 4
}
