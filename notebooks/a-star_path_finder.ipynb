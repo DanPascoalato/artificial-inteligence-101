{
 "cells": [
  {
   "cell_type": "markdown",
   "metadata": {},
   "source": [
    "# Domain Definiftions"
   ]
  },
  {
   "cell_type": "code",
   "execution_count": 1,
   "metadata": {},
   "outputs": [],
   "source": [
    "import math\n",
    "import matplotlib.pyplot as pt\n",
    "import numpy as np\n",
    "from collections import deque as stack\n",
    "from dataclasses import dataclass\n",
    "from enum import Enum\n",
    "from typing import List, Set, Dict, Tuple, Optional\n"
   ]
  },
  {
   "cell_type": "code",
   "execution_count": 2,
   "metadata": {},
   "outputs": [],
   "source": [
    "@dataclass(frozen=False)\n",
    "class Node:\n",
    "    x: int\n",
    "    y: int\n",
    "    blocked: bool\n",
    "\n",
    "    def __init__(self, x: int, y: int):\n",
    "        self.x = x\n",
    "        self.y = y\n",
    "        self.blocked = False if (x == 0 and y == 0) else Node.draw_blocking_condition()\n",
    "\n",
    "    \"\"\"\n",
    "    Generate a binomial random distribution of '0' and '1's\n",
    "    where '0's represent the node is blocked, and therefore \n",
    "    it cannot be reached\n",
    "    \"\"\"\n",
    "    @classmethod\n",
    "    def draw_blocking_condition(cls):\n",
    "        dist = np.random.binomial(1, 0.75)\n",
    "        return True if dist == 0 else False\n",
    "\n",
    "    @property\n",
    "    def id(self) -> Tuple[int, int]:\n",
    "        return self.x, self.y\n",
    "\n",
    "    def is_blocked(self):\n",
    "        return self.blocked\n",
    "\n",
    "    def is_free(self):\n",
    "        return not self.blocked\n",
    "\n",
    "    def find_neighbors(self):\n",
    "        pass\n",
    "\n",
    "    def __hash__(self):\n",
    "        return self.id.__hash__()\n"
   ]
  },
  {
   "cell_type": "code",
   "execution_count": 3,
   "metadata": {},
   "outputs": [],
   "source": [
    "class Terrain(Enum):\n",
    "    Asphalt = (\"Terra\", 1)\n",
    "    Flooding = (\"Agua\", 3)\n",
    "    Quicksand = (\"Areia Movedica\", 6)\n",
    "\n",
    "    @classmethod\n",
    "    def lookup(cls, id: int) -> Optional['Terrain']:\n",
    "        terrain_map = {\n",
    "            0: Terrain.Flooding,\n",
    "            1: Terrain.Quicksand,\n",
    "            2: Terrain.Asphalt\n",
    "        }\n",
    "        return terrain_map.get(id, Terrain.Asphalt)\n",
    "\n",
    "    \"\"\"\n",
    "    Generate a binomial random distribution of '0', '1's and '2's \n",
    "    with 80% chance to get a '2', where the IDs defining each terrain are\n",
    "    set in the Terrain class:\n",
    "    \"\"\"\n",
    "    @classmethod\n",
    "    def draw_terrain(cls):\n",
    "        dist = np.random.binomial(2, 0.8)\n",
    "        return Terrain.lookup(dist)\n"
   ]
  },
  {
   "cell_type": "code",
   "execution_count": 4,
   "metadata": {},
   "outputs": [],
   "source": [
    "@dataclass(frozen=False)\n",
    "class Edge:\n",
    "    source: Node\n",
    "    destination: Node\n",
    "    terrain: Terrain\n",
    "\n",
    "    def __init__(self, source: Node, dest: Node, terrain: Terrain = Terrain.Asphalt):\n",
    "        self.source = source\n",
    "        self.destination = dest\n",
    "        self.terrain = terrain\n",
    "\n",
    "    @property\n",
    "    def weight(self):\n",
    "        return self.terrain.value[1]\n",
    "\n",
    "    def update_terrain(self, terrain: Terrain):\n",
    "        self.terrain = terrain\n"
   ]
  },
  {
   "cell_type": "code",
   "execution_count": 5,
   "metadata": {},
   "outputs": [],
   "source": [
    "@dataclass(frozen=False)\n",
    "class Graph:\n",
    "    nodes: Dict[Tuple[int,int], Node]\n",
    "    edges: Dict[Tuple[Node,Node], Edge]\n",
    "\n",
    "    def __init__(self):\n",
    "        self.nodes = dict()\n",
    "        self.edges = dict()\n",
    "\n",
    "    def get_node(self, x: int, y: int) -> Optional[Node]:\n",
    "        return self.nodes.get((x,y))\n",
    "\n",
    "    def get_all_nodes(self) -> List[Node]:\n",
    "        return list(self.nodes.values())\n",
    "\n",
    "    def get_available_nodes(self) -> List[Node]:\n",
    "        all_nodes = self.get_all_nodes()\n",
    "        return list(filter(lambda node: node.is_free(), all_nodes))\n",
    "\n",
    "    def get_blocked_nodes(self) -> List[Node]:\n",
    "        all_nodes = self.get_all_nodes()\n",
    "        return list(filter(lambda node: node.is_blocked(), all_nodes))\n",
    "\n",
    "    def find_edge_connecting(self, source: Node, target: Node) -> Optional[Edge]:\n",
    "        return self.edges.get((source, target))\n",
    "\n",
    "    def find_edges_whose_source_is(self, node: Node) -> List[Edge]:\n",
    "        neighbors: List[Node] = self.find_neighbors_of(node)\n",
    "        return [self.find_edge_connecting(node, neighbor) for neighbor in neighbors]\n",
    "\n",
    "    def find_neighbors_of(self, node: Node) -> List[Node]:\n",
    "        if node.is_free():\n",
    "            for pos in self._find_neighbors_pos_estimation(node):\n",
    "                neighbor: Optional[Node] = self.nodes.get(pos)\n",
    "                if neighbor != None and neighbor.is_free():\n",
    "                    yield self.nodes.get(pos)\n",
    "\n",
    "    \"\"\"\n",
    "    estimated positions return a list of expected neighbors as follows:\n",
    "    up, down, left, right, up_right, up_left, down_right, down_left\n",
    "    \"\"\"\n",
    "    def _find_neighbors_pos_estimation(self, node: Node):\n",
    "        pos = node.id\n",
    "        estimated_neighbors = [\n",
    "            (pos[0], pos[1]-1),\n",
    "            (pos[0], pos[1]+1),\n",
    "            (pos[0]-1, pos[1]),\n",
    "            (pos[0]+1, pos[1]),\n",
    "            (pos[0]+1, pos[1]-1),\n",
    "            (pos[0]-1, pos[1]-1),\n",
    "            (pos[0]+1, pos[1]+1),\n",
    "            (pos[0]-1, pos[1]+1)\n",
    "        ]\n",
    "        return estimated_neighbors\n",
    "\n",
    "    def with_node(self, node: Node):\n",
    "        self.nodes[node.id] = node\n",
    "        return self\n",
    "\n",
    "    def with_nodes(self, nodes: List[Node]):\n",
    "        [self.with_node(node) for node in nodes]\n",
    "        return self\n",
    "\n",
    "    def with_edge(self, edge: Edge):\n",
    "        src = edge.source\n",
    "        dest = edge.destination\n",
    "        self.edges[src, dest] = edge\n",
    "        return self\n",
    "\n",
    "    def with_edges(self, edges: List[Edge]):\n",
    "        [self.with_edge(edge) for edge in edges]\n",
    "        return self\n",
    "\n",
    "    def reset(self):\n",
    "        return Graph()\n"
   ]
  },
  {
   "cell_type": "markdown",
   "metadata": {},
   "source": [
    "# Graph Construction"
   ]
  },
  {
   "cell_type": "markdown",
   "metadata": {},
   "source": [
    "### Building the graph"
   ]
  },
  {
   "cell_type": "code",
   "execution_count": 16,
   "metadata": {},
   "outputs": [],
   "source": [
    "def generate_nodes(width: int, height: int):\n",
    "    for row_num in range(width):\n",
    "        for col_num in range(height):\n",
    "            yield Node(row_num, col_num)"
   ]
  },
  {
   "cell_type": "code",
   "execution_count": 17,
   "metadata": {},
   "outputs": [],
   "source": [
    "area_width = 10\n",
    "area_height = 10"
   ]
  },
  {
   "cell_type": "code",
   "execution_count": 18,
   "metadata": {},
   "outputs": [],
   "source": [
    "nodes = list(generate_nodes(area_width, area_height))\n",
    "graph = Graph().with_nodes(nodes)"
   ]
  },
  {
   "cell_type": "code",
   "execution_count": 19,
   "metadata": {},
   "outputs": [],
   "source": [
    "## For debugging purposes only\n",
    "\n",
    "# nodes = list(generate_nodes(4, 4))\n",
    "# graph = Graph().with_nodes(nodes)\n",
    "\n",
    "# blocked_entries = set([(1,1), (1,2), (2,2)])\n",
    "\n",
    "# for node in graph.get_all_nodes():\n",
    "#     if node.id in blocked_entries:\n",
    "#         node.blocked = True\n",
    "#     else:\n",
    "#         node.blocked = False"
   ]
  },
  {
   "cell_type": "code",
   "execution_count": 20,
   "metadata": {},
   "outputs": [],
   "source": [
    "for node in graph.nodes.values():\n",
    "    neighbors: List[Node] = graph.find_neighbors_of(node)\n",
    "    edges: List[Edge] = [Edge(node, neighbor) for neighbor in neighbors]\n",
    "    graph.with_edges(edges)\n"
   ]
  },
  {
   "cell_type": "code",
   "execution_count": 21,
   "metadata": {},
   "outputs": [],
   "source": [
    "## For debugging purposes only\n",
    "\n",
    "# node10 = graph.get_node(1, 0)\n",
    "# node21 = graph.get_node(2, 1)\n",
    "# edge = graph.find_edge_connecting(node10, node21)\n",
    "# edge.update_terrain(Terrain.Quicksand)\n"
   ]
  },
  {
   "cell_type": "markdown",
   "metadata": {},
   "source": [
    "### Sorting the Nodes to change the Terrain type"
   ]
  },
  {
   "cell_type": "code",
   "execution_count": 26,
   "metadata": {},
   "outputs": [],
   "source": [
    "nodes = graph.get_available_nodes()\n",
    "\n",
    "## TODO: randomly sort some nodes to change their terrain type"
   ]
  },
  {
   "cell_type": "markdown",
   "metadata": {},
   "source": [
    "# PathFinder Algorithm"
   ]
  },
  {
   "cell_type": "markdown",
   "metadata": {},
   "source": [
    "### A* Implementation"
   ]
  },
  {
   "cell_type": "code",
   "execution_count": 23,
   "metadata": {},
   "outputs": [],
   "source": [
    "class AStarAlgorithm:\n",
    "    graph: Graph\n",
    "    visited_nodes: Set[Node]\n",
    "\n",
    "    def __init__(self, graph: Graph):\n",
    "        self.graph = graph\n",
    "\n",
    "    def shortest_path_between(self, source: Node, target: Node) -> List[Node]:\n",
    "        self.visited_nodes = set()\n",
    "        self.path_stack = stack()\n",
    "        return self._shortest_path_between(source, target)\n",
    "\n",
    "    def _shortest_path_between(self, source: Node, target: Node) -> List[Node]:\n",
    "        neighbors: Set[Node] = set(graph.find_neighbors_of(source))\n",
    "        available_neighbors = neighbors.difference(self.visited_nodes)\n",
    "\n",
    "        if source == target:\n",
    "            self.path_stack.append(source)\n",
    "            return self.path_stack\n",
    "\n",
    "        else:\n",
    "            if len(available_neighbors) > 0:\n",
    "                edges: List[Edge] = [graph.find_edge_connecting(source, neighbor) for neighbor in available_neighbors]\n",
    "                nodes_heuristics = [a_star.distance_between(edge.destination, target, edge.weight) for edge in edges]\n",
    "                best_node_heuristics = min(nodes_heuristics, key=lambda h: h[1])\n",
    "                selected_neighbor = best_node_heuristics[0]\n",
    "\n",
    "                self.visited_nodes.add(source)\n",
    "                self.path_stack.append(source)\n",
    "                return self._shortest_path_between(source=selected_neighbor, target=target)\n",
    "\n",
    "            else:\n",
    "                # Rollback\n",
    "                try:\n",
    "                    last_visited_node = self.path_stack.pop()\n",
    "                    self.visited_nodes.remove(last_visited_node)\n",
    "                    self.visited_nodes.add(source)\n",
    "                    return self._shortest_path_between(source=last_visited_node, target=target)\n",
    "                except IndexError:\n",
    "                    return self.path_stack\n",
    "\n",
    "    def distance_between(self, node: Node, target: Node, cost_to_node: int):\n",
    "        euclidian_dist = pow(target.x - node.x,2) + pow(target.y - node.y,2)\n",
    "        heuristic = math.sqrt(euclidian_dist) + cost_to_node\n",
    "        return node, heuristic\n"
   ]
  },
  {
   "cell_type": "code",
   "execution_count": 24,
   "metadata": {},
   "outputs": [],
   "source": [
    "a_star = AStarAlgorithm(graph)\n",
    "source = graph.nodes.get((0, 0))\n",
    "target = graph.nodes.get((area_width-1, area_height-1))\n"
   ]
  },
  {
   "cell_type": "code",
   "execution_count": 25,
   "metadata": {},
   "outputs": [
    {
     "data": {
      "text/plain": [
       "deque([Node(x=0, y=0, blocked=False),\n",
       "       Node(x=0, y=1, blocked=False),\n",
       "       Node(x=1, y=2, blocked=False),\n",
       "       Node(x=2, y=3, blocked=False),\n",
       "       Node(x=3, y=4, blocked=False),\n",
       "       Node(x=4, y=5, blocked=False),\n",
       "       Node(x=5, y=4, blocked=False),\n",
       "       Node(x=6, y=5, blocked=False),\n",
       "       Node(x=7, y=6, blocked=False),\n",
       "       Node(x=8, y=7, blocked=False),\n",
       "       Node(x=9, y=8, blocked=False),\n",
       "       Node(x=9, y=9, blocked=False)])"
      ]
     },
     "execution_count": 25,
     "metadata": {},
     "output_type": "execute_result"
    }
   ],
   "source": [
    "path = a_star.shortest_path_between(source, target)\n",
    "path"
   ]
  },
  {
   "cell_type": "code",
   "execution_count": null,
   "metadata": {},
   "outputs": [],
   "source": []
  },
  {
   "cell_type": "markdown",
   "metadata": {},
   "source": [
    "# Graph Visualization"
   ]
  },
  {
   "cell_type": "code",
   "execution_count": null,
   "metadata": {},
   "outputs": [],
   "source": []
  }
 ],
 "metadata": {
  "kernelspec": {
   "display_name": "Python 3",
   "language": "python",
   "name": "python3"
  },
  "language_info": {
   "codemirror_mode": {
    "name": "ipython",
    "version": 3
   },
   "file_extension": ".py",
   "mimetype": "text/x-python",
   "name": "python",
   "nbconvert_exporter": "python",
   "pygments_lexer": "ipython3",
   "version": "3.7.7"
  }
 },
 "nbformat": 4,
 "nbformat_minor": 4
}
