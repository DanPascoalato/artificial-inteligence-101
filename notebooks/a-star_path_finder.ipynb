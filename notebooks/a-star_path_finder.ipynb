{
 "cells": [
  {
   "cell_type": "markdown",
   "metadata": {},
   "source": [
    "### Domain Definiftions"
   ]
  },
  {
   "cell_type": "code",
   "execution_count": 235,
   "metadata": {},
   "outputs": [],
   "source": [
    "from dataclasses import dataclass\n",
    "from enum import Enum\n",
    "from typing import List, Dict, Tuple"
   ]
  },
  {
   "cell_type": "code",
   "execution_count": 238,
   "metadata": {},
   "outputs": [],
   "source": [
    "@dataclass(frozen=False)\n",
    "class Node:\n",
    "    x: int\n",
    "    y: int\n",
    "\n",
    "    @property\n",
    "    def id(self) -> Tuple[int, int]:\n",
    "        return self.x, self.y\n",
    "\n",
    "    def find_neighbors(self):\n",
    "        pass\n"
   ]
  },
  {
   "cell_type": "code",
   "execution_count": 239,
   "metadata": {},
   "outputs": [],
   "source": [
    "class Terrain(Enum):\n",
    "    Asphalt = (\"Terra\", 1)\n",
    "    Flooding = (\"Agua\", 3)\n",
    "    Quicksand = (\"Areia Movedica\", 6)\n"
   ]
  },
  {
   "cell_type": "code",
   "execution_count": 240,
   "metadata": {},
   "outputs": [],
   "source": [
    "@dataclass(frozen=True)\n",
    "class Edge:\n",
    "    source: Node\n",
    "    destionation: Node\n",
    "    terrain: Terrain\n"
   ]
  },
  {
   "cell_type": "code",
   "execution_count": 242,
   "metadata": {},
   "outputs": [],
   "source": [
    "@dataclass(frozen=False)\n",
    "class Graph:\n",
    "    nodes: Dict[Tuple, Node]\n",
    "    edges: List[Edge]\n",
    "\n",
    "    def __init__(self):\n",
    "        self.nodes = {}\n",
    "        self.edges = []\n",
    "\n",
    "    def with_node(self, node: Node):\n",
    "        self.nodes[node.id] = node\n",
    "        return self\n",
    "\n",
    "    def with_edge(self, edge: Edge):\n",
    "        self.edges.append(edge)\n",
    "        return self\n"
   ]
  },
  {
   "cell_type": "markdown",
   "metadata": {},
   "source": [
    "## Graph Construction"
   ]
  },
  {
   "cell_type": "code",
   "execution_count": 263,
   "metadata": {},
   "outputs": [],
   "source": [
    "## Add nodes to the graph\n",
    "\n",
    "nodeA = Node(0,0)\n",
    "nodeB = Node(0,1)\n",
    "nodeC = Node(1,0)\n",
    "nodeD = Node(1,1)\n",
    "\n",
    "graph = Graph()\\\n",
    "            .with_node(nodeA)\\\n",
    "            .with_node(nodeB)\\\n",
    "            .with_node(nodeC)\\\n",
    "            .with_node(nodeD) "
   ]
  },
  {
   "cell_type": "code",
   "execution_count": 264,
   "metadata": {},
   "outputs": [
    {
     "data": {
      "text/plain": [
       "dict_values([Node(x=0, y=0), Node(x=0, y=1), Node(x=1, y=0), Node(x=1, y=1)])"
      ]
     },
     "execution_count": 264,
     "metadata": {},
     "output_type": "execute_result"
    }
   ],
   "source": [
    "graph.nodes.values()"
   ]
  },
  {
   "cell_type": "code",
   "execution_count": 272,
   "metadata": {},
   "outputs": [
    {
     "name": "stdout",
     "output_type": "stream",
     "text": [
      "Node(x=1, y=1)\n"
     ]
    }
   ],
   "source": [
    "for node in graph.nodes.values():\n",
    "    pos = node.id \n",
    "\n",
    "    up = (pos[0], pos[1]-1)\n",
    "    down = (pos[0], pos[1]+1)\n",
    "    left = (pos[0]-1, pos[1])\n",
    "    right = (pos[0]+1, pos[1])\n",
    "    down_right = (pos[0]+1, pos[1]+1)\n",
    "\n",
    "    neighbor = graph.nodes.get(down_right)\n",
    "    print(neighbor)\n",
    "    break"
   ]
  },
  {
   "cell_type": "code",
   "execution_count": 196,
   "metadata": {},
   "outputs": [
    {
     "data": {
      "text/plain": [
       "({(1, 2): 'lalalla'}, 0)"
      ]
     },
     "execution_count": 196,
     "metadata": {},
     "output_type": "execute_result"
    }
   ],
   "source": []
  },
  {
   "cell_type": "markdown",
   "metadata": {},
   "source": [
    "### Data Science"
   ]
  },
  {
   "cell_type": "code",
   "execution_count": null,
   "metadata": {},
   "outputs": [],
   "source": [
    "import numpy as np\n",
    "import matplotlib.pyplot as plt\n"
   ]
  },
  {
   "cell_type": "code",
   "execution_count": null,
   "metadata": {},
   "outputs": [],
   "source": []
  },
  {
   "cell_type": "code",
   "execution_count": 11,
   "metadata": {},
   "outputs": [],
   "source": [
    "area_height: int = 8\n",
    "area_width: int = 8"
   ]
  },
  {
   "cell_type": "code",
   "execution_count": 12,
   "metadata": {},
   "outputs": [],
   "source": [
    "def build_array(height: int, width: int) -> np.ndarray:\n",
    "    lines = [np.arange(row_num, row_num+width/10, step=0.1) for row_num in range(0, height)]\n",
    "    return np.stack(lines)"
   ]
  },
  {
   "cell_type": "code",
   "execution_count": 13,
   "metadata": {},
   "outputs": [],
   "source": [
    "board = build_array(area_height, area_width)"
   ]
  },
  {
   "cell_type": "code",
   "execution_count": 15,
   "metadata": {},
   "outputs": [
    {
     "data": {
      "text/plain": [
       "array([[0. , 0.1, 0.2, 0.3, 0.4, 0.5, 0.6, 0.7],\n",
       "       [1. , 1.1, 1.2, 1.3, 1.4, 1.5, 1.6, 1.7],\n",
       "       [2. , 2.1, 2.2, 2.3, 2.4, 2.5, 2.6, 2.7],\n",
       "       [3. , 3.1, 3.2, 3.3, 3.4, 3.5, 3.6, 3.7],\n",
       "       [4. , 4.1, 4.2, 4.3, 4.4, 4.5, 4.6, 4.7],\n",
       "       [5. , 5.1, 5.2, 5.3, 5.4, 5.5, 5.6, 5.7],\n",
       "       [6. , 6.1, 6.2, 6.3, 6.4, 6.5, 6.6, 6.7],\n",
       "       [7. , 7.1, 7.2, 7.3, 7.4, 7.5, 7.6, 7.7]])"
      ]
     },
     "execution_count": 15,
     "metadata": {},
     "output_type": "execute_result"
    }
   ],
   "source": [
    "board"
   ]
  },
  {
   "cell_type": "code",
   "execution_count": 47,
   "metadata": {},
   "outputs": [],
   "source": [
    "values = np.random.randint(low=1, high=100, size=1000)\n"
   ]
  },
  {
   "cell_type": "code",
   "execution_count": null,
   "metadata": {},
   "outputs": [],
   "source": []
  }
 ],
 "metadata": {
  "kernelspec": {
   "display_name": "Python 3.8.2 64-bit",
   "language": "python",
   "name": "python38264bit2c1b7a46cd9945cba13568f8d3df8e1e"
  },
  "language_info": {
   "codemirror_mode": {
    "name": "ipython",
    "version": 3
   },
   "file_extension": ".py",
   "mimetype": "text/x-python",
   "name": "python",
   "nbconvert_exporter": "python",
   "pygments_lexer": "ipython3",
   "version": "3.8.2"
  }
 },
 "nbformat": 4,
 "nbformat_minor": 4
}
